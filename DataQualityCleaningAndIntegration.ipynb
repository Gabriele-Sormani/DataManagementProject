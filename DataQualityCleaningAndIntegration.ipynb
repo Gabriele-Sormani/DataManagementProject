{
 "cells": [
  {
   "cell_type": "markdown",
   "source": [
    "##Retrieve data from MongoDB"
   ],
   "metadata": {
    "collapsed": false
   },
   "id": "897d181ba41fb2d9"
  },
  {
   "cell_type": "code",
   "execution_count": 1,
   "outputs": [],
   "source": [
    "import warnings\n",
    "\n",
    "warnings.filterwarnings('ignore')"
   ],
   "metadata": {
    "collapsed": false,
    "ExecuteTime": {
     "end_time": "2024-02-17T13:49:43.227782700Z",
     "start_time": "2024-02-17T13:49:43.185732800Z"
    }
   },
   "id": "5de6f41c476b631b"
  },
  {
   "cell_type": "code",
   "execution_count": 2,
   "outputs": [],
   "source": [
    "from pymongo import MongoClient"
   ],
   "metadata": {
    "collapsed": false,
    "ExecuteTime": {
     "end_time": "2024-02-17T13:49:43.998258900Z",
     "start_time": "2024-02-17T13:49:43.227782700Z"
    }
   },
   "id": "initial_id"
  },
  {
   "cell_type": "code",
   "execution_count": 3,
   "outputs": [],
   "source": [
    "client = MongoClient('localhost', 27017)\n",
    "db = client.RawDataDb\n",
    "collection = db.AqiData\n",
    "cursor = collection.find({})\n",
    "document_list_aqi = []\n",
    "for document in cursor:\n",
    "    document_list_aqi.append(document)"
   ],
   "metadata": {
    "collapsed": false,
    "ExecuteTime": {
     "end_time": "2024-02-17T13:49:44.130685900Z",
     "start_time": "2024-02-17T13:49:43.998258900Z"
    }
   },
   "id": "8ae22fecd3600484"
  },
  {
   "cell_type": "code",
   "execution_count": 4,
   "outputs": [],
   "source": [
    "collection = db.WeatherData\n",
    "cursor = collection.find({})\n",
    "document_list_weather = []\n",
    "for document in cursor:\n",
    "    document_list_weather.append(document)"
   ],
   "metadata": {
    "collapsed": false,
    "ExecuteTime": {
     "end_time": "2024-02-17T13:49:44.188166200Z",
     "start_time": "2024-02-17T13:49:44.130301600Z"
    }
   },
   "id": "6503263060a004ab"
  },
  {
   "cell_type": "code",
   "execution_count": 5,
   "outputs": [],
   "source": [
    "collection = db.AqiAPIData\n",
    "cursor = collection.find({})\n",
    "document_list_aqiAPI = []\n",
    "for document in cursor:\n",
    "    document_list_aqiAPI.append(document)"
   ],
   "metadata": {
    "collapsed": false,
    "ExecuteTime": {
     "end_time": "2024-02-17T13:49:44.213752800Z",
     "start_time": "2024-02-17T13:49:44.164063600Z"
    }
   },
   "id": "8e658a7a13b95e44"
  },
  {
   "cell_type": "code",
   "execution_count": 6,
   "outputs": [],
   "source": [
    "collection = db.TrafficData\n",
    "cursor = collection.find({})\n",
    "document_list_traffic = []\n",
    "for document in cursor:\n",
    "    document_list_traffic.append(document)"
   ],
   "metadata": {
    "collapsed": false,
    "ExecuteTime": {
     "end_time": "2024-02-17T13:52:35.371570800Z",
     "start_time": "2024-02-17T13:49:44.204190100Z"
    }
   },
   "id": "71af3c55953bd0f0"
  },
  {
   "cell_type": "code",
   "execution_count": 7,
   "outputs": [],
   "source": [
    "collection = db.GeolocAqiStations\n",
    "cursor = collection.find({})\n",
    "document_list_geocoding = []\n",
    "for document in cursor:\n",
    "    document_list_geocoding.append(document)"
   ],
   "metadata": {
    "collapsed": false,
    "ExecuteTime": {
     "end_time": "2024-02-17T13:52:35.423430400Z",
     "start_time": "2024-02-17T13:52:35.371570800Z"
    }
   },
   "id": "f8e9d6a1b972eb6b"
  },
  {
   "cell_type": "markdown",
   "source": [
    "##Data quality on the single collections of data"
   ],
   "metadata": {
    "collapsed": false
   },
   "id": "cb31c0e429569b7b"
  },
  {
   "cell_type": "code",
   "execution_count": 8,
   "outputs": [],
   "source": [
    "import pandas as pd\n",
    "weather_df = pd.DataFrame.from_records(document_list_weather)\n",
    "weather_df = weather_df.drop('_id', axis=1)"
   ],
   "metadata": {
    "collapsed": false,
    "ExecuteTime": {
     "end_time": "2024-02-17T13:52:35.564832400Z",
     "start_time": "2024-02-17T13:52:35.423430400Z"
    }
   },
   "id": "7e7de4cd9b186c67"
  },
  {
   "cell_type": "code",
   "execution_count": 9,
   "outputs": [
    {
     "name": "stdout",
     "output_type": "stream",
     "text": [
      "Table completeness:  0.8418167139182516 \n"
     ]
    },
    {
     "data": {
      "text/plain": "   attributes  attribute completeness\n0        temp                1.000000\n1        dwpt                1.000000\n2        rhum                1.000000\n3        prcp                1.000000\n4        snow                0.002441\n5        wdir                1.000000\n6        wspd                1.000000\n7        wpgt                0.941176\n8        pres                1.000000\n9        tsun                0.000000\n10       coco                1.000000\n11   datetime                1.000000\n12    station                1.000000",
      "text/html": "<div>\n<style scoped>\n    .dataframe tbody tr th:only-of-type {\n        vertical-align: middle;\n    }\n\n    .dataframe tbody tr th {\n        vertical-align: top;\n    }\n\n    .dataframe thead th {\n        text-align: right;\n    }\n</style>\n<table border=\"1\" class=\"dataframe\">\n  <thead>\n    <tr style=\"text-align: right;\">\n      <th></th>\n      <th>attributes</th>\n      <th>attribute completeness</th>\n    </tr>\n  </thead>\n  <tbody>\n    <tr>\n      <th>0</th>\n      <td>temp</td>\n      <td>1.000000</td>\n    </tr>\n    <tr>\n      <th>1</th>\n      <td>dwpt</td>\n      <td>1.000000</td>\n    </tr>\n    <tr>\n      <th>2</th>\n      <td>rhum</td>\n      <td>1.000000</td>\n    </tr>\n    <tr>\n      <th>3</th>\n      <td>prcp</td>\n      <td>1.000000</td>\n    </tr>\n    <tr>\n      <th>4</th>\n      <td>snow</td>\n      <td>0.002441</td>\n    </tr>\n    <tr>\n      <th>5</th>\n      <td>wdir</td>\n      <td>1.000000</td>\n    </tr>\n    <tr>\n      <th>6</th>\n      <td>wspd</td>\n      <td>1.000000</td>\n    </tr>\n    <tr>\n      <th>7</th>\n      <td>wpgt</td>\n      <td>0.941176</td>\n    </tr>\n    <tr>\n      <th>8</th>\n      <td>pres</td>\n      <td>1.000000</td>\n    </tr>\n    <tr>\n      <th>9</th>\n      <td>tsun</td>\n      <td>0.000000</td>\n    </tr>\n    <tr>\n      <th>10</th>\n      <td>coco</td>\n      <td>1.000000</td>\n    </tr>\n    <tr>\n      <th>11</th>\n      <td>datetime</td>\n      <td>1.000000</td>\n    </tr>\n    <tr>\n      <th>12</th>\n      <td>station</td>\n      <td>1.000000</td>\n    </tr>\n  </tbody>\n</table>\n</div>"
     },
     "execution_count": 9,
     "metadata": {},
     "output_type": "execute_result"
    }
   ],
   "source": [
    "#completeness\n",
    "m = len(weather_df)\n",
    "n = len(list(weather_df.columns))\n",
    "#table completeness\n",
    "null_table = 0\n",
    "for col in weather_df.columns:\n",
    "    null_table += weather_df[col].isnull().sum()\n",
    "table_completeness = 1-(null_table/(m*n))    \n",
    "print('Table completeness: ', table_completeness, '\\n\\n')\n",
    "\n",
    "#attribute completeness\n",
    "null_attributes_completeness = []\n",
    "for col in weather_df.columns:\n",
    "    attr_compl = 1-(weather_df[col].isnull().sum()/m)\n",
    "    null_attributes_completeness.append(attr_compl)\n",
    "\n",
    "column_list = weather_df.columns\n",
    "attribute_completeness_weather = {'attributes':list(column_list), \n",
    "                                  'attribute completeness':null_attributes_completeness}\n",
    "attribute_completeness_weather_df = pd.DataFrame(attribute_completeness_weather, )\n",
    "attribute_completeness_weather_df"
   ],
   "metadata": {
    "collapsed": false,
    "ExecuteTime": {
     "end_time": "2024-02-17T13:52:35.722152700Z",
     "start_time": "2024-02-17T13:52:35.549205500Z"
    }
   },
   "id": "4297061f2dd90d2"
  },
  {
   "cell_type": "code",
   "execution_count": 10,
   "outputs": [],
   "source": [
    "aqi_scraping_df = pd.DataFrame.from_records(document_list_aqi)\n",
    "aqi_scraping_df = aqi_scraping_df.drop('_id', axis=1)"
   ],
   "metadata": {
    "collapsed": false,
    "ExecuteTime": {
     "end_time": "2024-02-17T13:52:35.957385300Z",
     "start_time": "2024-02-17T13:52:35.706521900Z"
    }
   },
   "id": "609de9930214c005"
  },
  {
   "cell_type": "code",
   "execution_count": 11,
   "outputs": [
    {
     "name": "stdout",
     "output_type": "stream",
     "text": [
      "Table completeness:  0.868521992328583 \n"
     ]
    },
    {
     "data": {
      "text/plain": "    attributes  attribute completeness\n0   station id                1.000000\n1         time                1.000000\n2          aqi                1.000000\n3    aqi_level                1.000000\n4       pm 2.5                0.941176\n5        pm 10                0.941176\n6         temp                0.941176\n7          r.h                0.941176\n8     pressure                0.764706\n9         wind                1.000000\n10        pm 1                0.176471",
      "text/html": "<div>\n<style scoped>\n    .dataframe tbody tr th:only-of-type {\n        vertical-align: middle;\n    }\n\n    .dataframe tbody tr th {\n        vertical-align: top;\n    }\n\n    .dataframe thead th {\n        text-align: right;\n    }\n</style>\n<table border=\"1\" class=\"dataframe\">\n  <thead>\n    <tr style=\"text-align: right;\">\n      <th></th>\n      <th>attributes</th>\n      <th>attribute completeness</th>\n    </tr>\n  </thead>\n  <tbody>\n    <tr>\n      <th>0</th>\n      <td>station id</td>\n      <td>1.000000</td>\n    </tr>\n    <tr>\n      <th>1</th>\n      <td>time</td>\n      <td>1.000000</td>\n    </tr>\n    <tr>\n      <th>2</th>\n      <td>aqi</td>\n      <td>1.000000</td>\n    </tr>\n    <tr>\n      <th>3</th>\n      <td>aqi_level</td>\n      <td>1.000000</td>\n    </tr>\n    <tr>\n      <th>4</th>\n      <td>pm 2.5</td>\n      <td>0.941176</td>\n    </tr>\n    <tr>\n      <th>5</th>\n      <td>pm 10</td>\n      <td>0.941176</td>\n    </tr>\n    <tr>\n      <th>6</th>\n      <td>temp</td>\n      <td>0.941176</td>\n    </tr>\n    <tr>\n      <th>7</th>\n      <td>r.h</td>\n      <td>0.941176</td>\n    </tr>\n    <tr>\n      <th>8</th>\n      <td>pressure</td>\n      <td>0.764706</td>\n    </tr>\n    <tr>\n      <th>9</th>\n      <td>wind</td>\n      <td>1.000000</td>\n    </tr>\n    <tr>\n      <th>10</th>\n      <td>pm 1</td>\n      <td>0.176471</td>\n    </tr>\n  </tbody>\n</table>\n</div>"
     },
     "execution_count": 11,
     "metadata": {},
     "output_type": "execute_result"
    }
   ],
   "source": [
    "#completeness\n",
    "m = len(aqi_scraping_df)\n",
    "n = len(list(aqi_scraping_df.columns))\n",
    "#table completeness\n",
    "null_table = 0\n",
    "for col in aqi_scraping_df.columns:\n",
    "    if col == 'aqi':\n",
    "        null_table += (aqi_scraping_df[col] == 'no data').sum()\n",
    "    if col == 'aqi_level':\n",
    "        null_table += (aqi_scraping_df[col] == 'no data').sum()\n",
    "    if col == 'pressure' or col=='time' or col=='station id' or col=='wind'or col=='pm 1':\n",
    "        null_table += aqi_scraping_df[col].isnull().sum()\n",
    "    else:\n",
    "        null_table += (aqi_scraping_df[col] == '-').sum()\n",
    "table_completeness = 1-(null_table/(m*n))    \n",
    "print('Table completeness: ', table_completeness, '\\n\\n')\n",
    "\n",
    "#attribute completeness\n",
    "null_attributes_completeness = []\n",
    "for col in aqi_scraping_df.columns:\n",
    "    if col == 'aqi':\n",
    "        attr_compl = 1-(((aqi_scraping_df[col] == 'no data').sum())/m)\n",
    "    if col == 'aqi_level':\n",
    "        attr_compl = 1-(((aqi_scraping_df[col] == 'no data').sum())/m)\n",
    "    if col == 'pressure' or col=='time' or col=='station id' or col=='wind' or col=='pm 1':\n",
    "        attr_compl = 1-(aqi_scraping_df[col].isnull().sum()/m)\n",
    "    else:\n",
    "        attr_compl = 1-(((aqi_scraping_df[col] == '-').sum())/m)\n",
    "        \n",
    "    null_attributes_completeness.append(attr_compl)\n",
    "\n",
    "column_list = aqi_scraping_df.columns\n",
    "attribute_completeness_aqi_sc = {'attributes':list(column_list), \n",
    "                                  'attribute completeness':null_attributes_completeness}\n",
    "attribute_completeness_aqi_sc_df = pd.DataFrame(attribute_completeness_aqi_sc)\n",
    "attribute_completeness_aqi_sc_df"
   ],
   "metadata": {
    "collapsed": false,
    "ExecuteTime": {
     "end_time": "2024-02-17T13:52:36.004660100Z",
     "start_time": "2024-02-17T13:52:35.738631100Z"
    }
   },
   "id": "f9b2080d150bcf63"
  },
  {
   "cell_type": "code",
   "execution_count": 12,
   "outputs": [],
   "source": [
    "aqi_api_df = pd.DataFrame.from_records(document_list_aqiAPI)\n",
    "aqi_api_df = aqi_api_df.drop('_id', axis=1)"
   ],
   "metadata": {
    "collapsed": false,
    "ExecuteTime": {
     "end_time": "2024-02-17T13:52:36.004660100Z",
     "start_time": "2024-02-17T13:52:35.801132400Z"
    }
   },
   "id": "9100285fdaa7da0b"
  },
  {
   "cell_type": "code",
   "execution_count": 13,
   "outputs": [
    {
     "name": "stdout",
     "output_type": "stream",
     "text": [
      "Table completeness:  1.0 \n"
     ]
    },
    {
     "data": {
      "text/plain": "                attributes  attribute completeness\n0                   us_aqi                     1.0\n1             us_aqi_pm2_5                     1.0\n2              us_aqi_pm10                     1.0\n3  us_aqi_nitrogen_dioxide                     1.0\n4   us_aqi_carbon_monoxide                     1.0\n5             us_aqi_ozone                     1.0\n6   us_aqi_sulphur_dioxide                     1.0\n7                  station                     1.0\n8                 datetime                     1.0",
      "text/html": "<div>\n<style scoped>\n    .dataframe tbody tr th:only-of-type {\n        vertical-align: middle;\n    }\n\n    .dataframe tbody tr th {\n        vertical-align: top;\n    }\n\n    .dataframe thead th {\n        text-align: right;\n    }\n</style>\n<table border=\"1\" class=\"dataframe\">\n  <thead>\n    <tr style=\"text-align: right;\">\n      <th></th>\n      <th>attributes</th>\n      <th>attribute completeness</th>\n    </tr>\n  </thead>\n  <tbody>\n    <tr>\n      <th>0</th>\n      <td>us_aqi</td>\n      <td>1.0</td>\n    </tr>\n    <tr>\n      <th>1</th>\n      <td>us_aqi_pm2_5</td>\n      <td>1.0</td>\n    </tr>\n    <tr>\n      <th>2</th>\n      <td>us_aqi_pm10</td>\n      <td>1.0</td>\n    </tr>\n    <tr>\n      <th>3</th>\n      <td>us_aqi_nitrogen_dioxide</td>\n      <td>1.0</td>\n    </tr>\n    <tr>\n      <th>4</th>\n      <td>us_aqi_carbon_monoxide</td>\n      <td>1.0</td>\n    </tr>\n    <tr>\n      <th>5</th>\n      <td>us_aqi_ozone</td>\n      <td>1.0</td>\n    </tr>\n    <tr>\n      <th>6</th>\n      <td>us_aqi_sulphur_dioxide</td>\n      <td>1.0</td>\n    </tr>\n    <tr>\n      <th>7</th>\n      <td>station</td>\n      <td>1.0</td>\n    </tr>\n    <tr>\n      <th>8</th>\n      <td>datetime</td>\n      <td>1.0</td>\n    </tr>\n  </tbody>\n</table>\n</div>"
     },
     "execution_count": 13,
     "metadata": {},
     "output_type": "execute_result"
    }
   ],
   "source": [
    "#completeness\n",
    "m = len(aqi_api_df)\n",
    "n = len(list(aqi_api_df.columns))\n",
    "#table completeness\n",
    "null_table = 0\n",
    "for col in aqi_api_df.columns:\n",
    "    null_table += aqi_api_df[col].isnull().sum()\n",
    "table_completeness = 1-(null_table/(m*n))    \n",
    "print('Table completeness: ', table_completeness, '\\n\\n')\n",
    "\n",
    "#attribute completeness\n",
    "null_attributes_completeness = []\n",
    "for col in aqi_api_df.columns:\n",
    "    attr_compl = 1-(aqi_api_df[col].isnull().sum()/m)\n",
    "    null_attributes_completeness.append(attr_compl)\n",
    "\n",
    "column_list = aqi_api_df.columns\n",
    "attribute_completeness_aqi_api = {'attributes':list(column_list), \n",
    "                                  'attribute completeness':null_attributes_completeness}\n",
    "attribute_completeness_aqi_api_df = pd.DataFrame(attribute_completeness_aqi_api)\n",
    "attribute_completeness_aqi_api_df"
   ],
   "metadata": {
    "collapsed": false,
    "ExecuteTime": {
     "end_time": "2024-02-17T13:52:36.020299800Z",
     "start_time": "2024-02-17T13:52:35.832383400Z"
    }
   },
   "id": "6ffe97af92de9148"
  },
  {
   "cell_type": "code",
   "execution_count": 14,
   "outputs": [],
   "source": [
    "location_list = []\n",
    "for d in document_list_traffic:\n",
    "    location_list.append(d['location'])\n",
    "flow_list = []\n",
    "for d in document_list_traffic:\n",
    "    flow_list.append(d['currentFlow'])\n",
    "datetime_list = []\n",
    "for d in document_list_traffic:\n",
    "    datetime_list.append(d['datetime'])\n",
    "\n",
    "location_df = pd.DataFrame.from_records(location_list)\n",
    "flow_df = pd.DataFrame.from_records(flow_list)\n",
    "traffic_df = pd.merge(location_df, flow_df, right_index=True, left_index=True)\n",
    "traffic_df['datetime'] = datetime_list"
   ],
   "metadata": {
    "collapsed": false,
    "ExecuteTime": {
     "end_time": "2024-02-17T13:52:50.963425100Z",
     "start_time": "2024-02-17T13:52:35.863633700Z"
    }
   },
   "id": "7ae4174b637d9701"
  },
  {
   "cell_type": "code",
   "execution_count": 15,
   "outputs": [
    {
     "name": "stdout",
     "output_type": "stream",
     "text": [
      "Table completeness:  0.7365121638518501 \n"
     ]
    },
    {
     "data": {
      "text/plain": "                attributes  attribute completeness\n0              description                0.982439\n1                   length                1.000000\n2                    shape                1.000000\n3                    speed                0.998144\n4            speedUncapped                0.998144\n5                 freeFlow                0.999997\n6                jamFactor                0.999997\n7               confidence                0.998144\n8           traversability                0.999997\n9              subSegments                0.330634\n10             jamTendency                0.001817\n11  junctionTraversability                0.001853\n12                no infos                0.000003\n13                datetime                1.000000",
      "text/html": "<div>\n<style scoped>\n    .dataframe tbody tr th:only-of-type {\n        vertical-align: middle;\n    }\n\n    .dataframe tbody tr th {\n        vertical-align: top;\n    }\n\n    .dataframe thead th {\n        text-align: right;\n    }\n</style>\n<table border=\"1\" class=\"dataframe\">\n  <thead>\n    <tr style=\"text-align: right;\">\n      <th></th>\n      <th>attributes</th>\n      <th>attribute completeness</th>\n    </tr>\n  </thead>\n  <tbody>\n    <tr>\n      <th>0</th>\n      <td>description</td>\n      <td>0.982439</td>\n    </tr>\n    <tr>\n      <th>1</th>\n      <td>length</td>\n      <td>1.000000</td>\n    </tr>\n    <tr>\n      <th>2</th>\n      <td>shape</td>\n      <td>1.000000</td>\n    </tr>\n    <tr>\n      <th>3</th>\n      <td>speed</td>\n      <td>0.998144</td>\n    </tr>\n    <tr>\n      <th>4</th>\n      <td>speedUncapped</td>\n      <td>0.998144</td>\n    </tr>\n    <tr>\n      <th>5</th>\n      <td>freeFlow</td>\n      <td>0.999997</td>\n    </tr>\n    <tr>\n      <th>6</th>\n      <td>jamFactor</td>\n      <td>0.999997</td>\n    </tr>\n    <tr>\n      <th>7</th>\n      <td>confidence</td>\n      <td>0.998144</td>\n    </tr>\n    <tr>\n      <th>8</th>\n      <td>traversability</td>\n      <td>0.999997</td>\n    </tr>\n    <tr>\n      <th>9</th>\n      <td>subSegments</td>\n      <td>0.330634</td>\n    </tr>\n    <tr>\n      <th>10</th>\n      <td>jamTendency</td>\n      <td>0.001817</td>\n    </tr>\n    <tr>\n      <th>11</th>\n      <td>junctionTraversability</td>\n      <td>0.001853</td>\n    </tr>\n    <tr>\n      <th>12</th>\n      <td>no infos</td>\n      <td>0.000003</td>\n    </tr>\n    <tr>\n      <th>13</th>\n      <td>datetime</td>\n      <td>1.000000</td>\n    </tr>\n  </tbody>\n</table>\n</div>"
     },
     "execution_count": 15,
     "metadata": {},
     "output_type": "execute_result"
    }
   ],
   "source": [
    "#completeness\n",
    "m = len(traffic_df)\n",
    "n = len(list(traffic_df.columns))\n",
    "#table completeness\n",
    "null_table = 0\n",
    "for col in traffic_df.columns:\n",
    "    null_table += traffic_df[col].isnull().sum()\n",
    "table_completeness = 1-(null_table/(m*n))    \n",
    "print('Table completeness: ', table_completeness, '\\n\\n')\n",
    "#attribute completeness\n",
    "null_attributes_completeness = []\n",
    "for col in traffic_df.columns:\n",
    "    attr_compl = 1-(traffic_df[col].isnull().sum()/m)\n",
    "    null_attributes_completeness.append(attr_compl)\n",
    "\n",
    "column_list = traffic_df.columns\n",
    "attribute_completeness_traffic = {'attributes':list(column_list), \n",
    "                                  'attribute completeness':null_attributes_completeness}\n",
    "attribute_completeness_traffic_df = pd.DataFrame(attribute_completeness_traffic, )\n",
    "attribute_completeness_traffic_df"
   ],
   "metadata": {
    "collapsed": false,
    "ExecuteTime": {
     "end_time": "2024-02-17T13:52:51.198094300Z",
     "start_time": "2024-02-17T13:52:50.943873800Z"
    }
   },
   "id": "207b9b20fe717951"
  },
  {
   "cell_type": "code",
   "execution_count": 16,
   "outputs": [
    {
     "data": {
      "text/plain": "    collection  consistency\n0  WeatherData     0.333333\n1   AqiAPIData     0.333333\n2      AqiData     0.000000\n3  TrafficData     0.000000",
      "text/html": "<div>\n<style scoped>\n    .dataframe tbody tr th:only-of-type {\n        vertical-align: middle;\n    }\n\n    .dataframe tbody tr th {\n        vertical-align: top;\n    }\n\n    .dataframe thead th {\n        text-align: right;\n    }\n</style>\n<table border=\"1\" class=\"dataframe\">\n  <thead>\n    <tr style=\"text-align: right;\">\n      <th></th>\n      <th>collection</th>\n      <th>consistency</th>\n    </tr>\n  </thead>\n  <tbody>\n    <tr>\n      <th>0</th>\n      <td>WeatherData</td>\n      <td>0.333333</td>\n    </tr>\n    <tr>\n      <th>1</th>\n      <td>AqiAPIData</td>\n      <td>0.333333</td>\n    </tr>\n    <tr>\n      <th>2</th>\n      <td>AqiData</td>\n      <td>0.000000</td>\n    </tr>\n    <tr>\n      <th>3</th>\n      <td>TrafficData</td>\n      <td>0.000000</td>\n    </tr>\n  </tbody>\n</table>\n</div>"
     },
     "execution_count": 16,
     "metadata": {},
     "output_type": "execute_result"
    }
   ],
   "source": [
    "\n",
    "\n",
    "#consistency of dates\n",
    "\n",
    "dates_format = [{'format':'YYYY-MM-DD hh:mm:ss', 'collection':'WeatherData'}, \n",
    "                {'format':'YYYY-MM-DD hh:mm:ss', 'collection':'AqiAPIData'},\n",
    "                {'format':'DD/MM/YYYT hh:mm:ss', 'collection':'AqiData'},\n",
    "                {'format':'YYYY-MM-DDThh:mm:ssZ', 'collection':'TrafficData'}]\n",
    "\n",
    "consistency_list = []\n",
    "for d in dates_format:\n",
    "    index = dates_format.index(d)\n",
    "    count = 0\n",
    "    for i in range(0,len(dates_format)):\n",
    "        if i != index:\n",
    "            if d['format'] == dates_format[i]['format']:\n",
    "                count += 1\n",
    "    \n",
    "    cons = count/3\n",
    "    consistency_list.append(cons)\n",
    "    \n",
    "collection_list = []\n",
    "for d in dates_format:\n",
    "    collection_list.append(d['collection'])\n",
    "  \n",
    "df_data = {'collection':collection_list, \n",
    "                                  'consistency':consistency_list}\n",
    "date_consistency_df = pd.DataFrame(df_data)\n",
    "date_consistency_df"
   ],
   "metadata": {
    "collapsed": false,
    "ExecuteTime": {
     "end_time": "2024-02-17T13:52:51.214757400Z",
     "start_time": "2024-02-17T13:52:51.198094300Z"
    }
   },
   "id": "3e92d370893b8430"
  },
  {
   "cell_type": "code",
   "execution_count": 17,
   "outputs": [
    {
     "name": "stdout",
     "output_type": "stream",
     "text": [
      "Consistency of speed of veichles and jamfactor:  0.9999569894785512\n",
      "There are  8  unconsistent values\n"
     ]
    }
   ],
   "source": [
    "#consistency between the speed and the jamfactor in traffic data\n",
    "cons_count = 0\n",
    "err_count = 0\n",
    "m = 0\n",
    "for doc in document_list_traffic:\n",
    "    flow = doc['currentFlow']\n",
    "    if 'speed' in flow.keys() and 'freeFlow' in flow.keys() and 'jamFactor' in flow.keys():\n",
    "        if flow['jamFactor'] > 0:\n",
    "            m += 1\n",
    "            if not(flow['speed'] > flow['freeFlow']):\n",
    "                cons_count += 1\n",
    "            else:\n",
    "                err_count += 1\n",
    "                \n",
    "\n",
    "\n",
    "consistency = cons_count/m\n",
    "print('Consistency of speed of veichles and jamfactor: ', consistency)\n",
    "print('There are ', err_count, ' unconsistent values')"
   ],
   "metadata": {
    "collapsed": false,
    "ExecuteTime": {
     "end_time": "2024-02-17T13:52:51.642832300Z",
     "start_time": "2024-02-17T13:52:51.214757400Z"
    }
   },
   "id": "2d740b5e71172140"
  },
  {
   "cell_type": "code",
   "execution_count": 18,
   "outputs": [
    {
     "name": "stdout",
     "output_type": "stream",
     "text": [
      "Consistency of speed and speedUncapped:  1.0\n"
     ]
    }
   ],
   "source": [
    "cons_count = 0\n",
    "m = 0\n",
    "for doc in document_list_traffic:\n",
    "    flow = doc['currentFlow']\n",
    "    if 'speed' in flow.keys() and 'speedUncapped' in flow.keys():\n",
    "        m += 1\n",
    "        if flow['speed'] <= flow['speedUncapped']:\n",
    "            cons_count += 1\n",
    "            \n",
    "consistency = cons_count/m\n",
    "print('Consistency of speed and speedUncapped: ', consistency)"
   ],
   "metadata": {
    "collapsed": false,
    "ExecuteTime": {
     "end_time": "2024-02-17T13:52:52.058690300Z",
     "start_time": "2024-02-17T13:52:51.642832300Z"
    }
   },
   "id": "2588797181f66665"
  },
  {
   "cell_type": "code",
   "execution_count": 19,
   "outputs": [
    {
     "name": "stdout",
     "output_type": "stream",
     "text": [
      "Consistency of jamfactor and traversability:  1.0\n"
     ]
    }
   ],
   "source": [
    "cons_count = 0\n",
    "m = 0\n",
    "for doc in document_list_traffic:\n",
    "    flow = doc['currentFlow']\n",
    "    if 'jamFactor' in flow.keys() and 'traversability' in flow.keys():\n",
    "        if flow['traversability'] == 'closed':\n",
    "            m += 1\n",
    "            if flow['jamFactor'] == 10:\n",
    "                cons_count += 1\n",
    "            \n",
    "consistency = cons_count/m\n",
    "print('Consistency of jamfactor and traversability: ', consistency)"
   ],
   "metadata": {
    "collapsed": false,
    "ExecuteTime": {
     "end_time": "2024-02-17T13:52:52.340523900Z",
     "start_time": "2024-02-17T13:52:52.058690300Z"
    }
   },
   "id": "b8459e802d22cc76"
  },
  {
   "cell_type": "code",
   "execution_count": 20,
   "outputs": [
    {
     "name": "stdout",
     "output_type": "stream",
     "text": [
      "Consistency of AQI and the relative category:  1.0\n"
     ]
    }
   ],
   "source": [
    "#consistency between aqi and the aqi and pollutants\n",
    "#consistency between all the pollutants and aqi and level\n",
    "#consistency (or accuracy????) of weather data\n",
    "\n",
    "cons_count = 0\n",
    "m = 0\n",
    "for doc in document_list_aqi:\n",
    "    \n",
    "    if doc['aqi'] != 'no data':\n",
    "        m += 1\n",
    "        if doc['aqi_level'] == 'Good':\n",
    "            if int(doc['aqi']) <= 50:\n",
    "                cons_count += 1\n",
    "        elif doc['aqi_level'] == 'Moderate':\n",
    "            if int(doc['aqi']) <= 100:\n",
    "                cons_count += 1\n",
    "        elif doc['aqi_level'] == 'Unhealthyfor Sensitive Groups':\n",
    "            if int(doc['aqi']) <= 150:\n",
    "                cons_count += 1\n",
    "        elif doc['aqi_level'] == 'Unhealthy':\n",
    "            if int(doc['aqi']) <= 200:\n",
    "                cons_count += 1\n",
    "        elif doc['aqi_level'] == 'VeryUnhealthy':\n",
    "            if int(doc['aqi']) <= 300:\n",
    "                cons_count += 1\n",
    "        elif doc['aqi_level'] == 'Hazardous':\n",
    "            if int(doc['aqi']) > 300:\n",
    "                cons_count += 1\n",
    "        \n",
    "    \n",
    "consistency = cons_count/m\n",
    "print('Consistency of AQI and the relative category: ', consistency)"
   ],
   "metadata": {
    "collapsed": false,
    "ExecuteTime": {
     "end_time": "2024-02-17T13:52:52.434300200Z",
     "start_time": "2024-02-17T13:52:52.340523900Z"
    }
   },
   "id": "175b1672a51f9d63"
  },
  {
   "cell_type": "code",
   "execution_count": 21,
   "outputs": [
    {
     "name": "stdout",
     "output_type": "stream",
     "text": [
      "Consistency of AQI and the pollutants:  1.0\n"
     ]
    }
   ],
   "source": [
    "cons_count = 0\n",
    "m = 0\n",
    "for doc in document_list_aqiAPI:\n",
    "    pollutant_list = [doc['us_aqi_pm2_5'], doc['us_aqi_pm10']]  \n",
    "    m += 1\n",
    "    if doc['us_aqi'] == max(pollutant_list):\n",
    "        cons_count += 1\n",
    "      \n",
    "consistency = cons_count/m\n",
    "print('Consistency of AQI and the pollutants: ', consistency)"
   ],
   "metadata": {
    "collapsed": false,
    "ExecuteTime": {
     "end_time": "2024-02-17T13:52:52.449898500Z",
     "start_time": "2024-02-17T13:52:52.356147700Z"
    }
   },
   "id": "4b11d311ab3d7e67"
  },
  {
   "cell_type": "code",
   "execution_count": 22,
   "outputs": [
    {
     "name": "stdout",
     "output_type": "stream",
     "text": [
      "Consistency of AQI and the pollutants:  0.9673333333333334\n"
     ]
    }
   ],
   "source": [
    "cons_count = 0\n",
    "m = 0\n",
    "for doc in document_list_aqi:\n",
    "    \n",
    "    if doc['pm 2.5'] != '-' and doc['pm 10'] != '-':\n",
    "        if 'pm 1' not in doc.keys():\n",
    "            pollutant_list = [int(doc['pm 2.5']), int(doc['pm 10'])]\n",
    "        else:\n",
    "            pollutant_list = [int(doc['pm 2.5']), int(doc['pm 10']), int(doc['pm 1'])]\n",
    "            \n",
    "        if doc['aqi'] != 'no data':\n",
    "            m += 1\n",
    "            if int(doc['aqi']) == max(pollutant_list):\n",
    "                cons_count += 1\n",
    "            \n",
    "        \n",
    "consistency = cons_count/m\n",
    "print('Consistency of AQI and the pollutants: ', consistency)"
   ],
   "metadata": {
    "collapsed": false,
    "ExecuteTime": {
     "end_time": "2024-02-17T13:52:52.449898500Z",
     "start_time": "2024-02-17T13:52:52.371769600Z"
    }
   },
   "id": "463679445f38114a"
  },
  {
   "cell_type": "code",
   "execution_count": 23,
   "outputs": [
    {
     "name": "stdout",
     "output_type": "stream",
     "text": [
      "Accuracy of temperature in aqi data:  0.9469895287958116\n",
      "Accuracy of relative humidity in aqi data:  1.0\n",
      "Accuracy of wind in aqi data:  1.0\n"
     ]
    }
   ],
   "source": [
    "temp_max = 39.3\n",
    "temp_min = -17.3\n",
    "\n",
    "cons_temp_count = 0\n",
    "cons_rh_count = 0\n",
    "cons_wind_count = 0\n",
    "m_temp = 0\n",
    "m_wind = 0\n",
    "m_rh = 0\n",
    "for doc in document_list_aqi:\n",
    "    if doc['temp'] != '-':\n",
    "        m_temp += 1\n",
    "        if temp_max >= int(doc['temp']) >= temp_min:\n",
    "            cons_temp_count += 1\n",
    "    if doc['r.h'] != '-':\n",
    "        m_rh += 1\n",
    "        if 100 >= int(doc['r.h']) >= 0:\n",
    "            cons_rh_count += 1\n",
    "    if 'wind' in doc.keys():\n",
    "        m_wind += 1\n",
    "        if int(doc['wind']) >= 0:\n",
    "            cons_wind_count += 1\n",
    "\n",
    "consistency_temp = cons_temp_count/m_temp\n",
    "consistency_rh = cons_rh_count/m_rh\n",
    "consistency_wind = cons_wind_count/m_wind\n",
    "\n",
    "print('Accuracy of temperature in aqi data: ', consistency_temp)\n",
    "print('Accuracy of relative humidity in aqi data: ', consistency_rh)\n",
    "print('Accuracy of wind in aqi data: ', consistency_wind)"
   ],
   "metadata": {
    "collapsed": false,
    "ExecuteTime": {
     "end_time": "2024-02-17T13:52:52.449898500Z",
     "start_time": "2024-02-17T13:52:52.387399500Z"
    }
   },
   "id": "db743bd2a16b515"
  },
  {
   "cell_type": "code",
   "execution_count": 24,
   "outputs": [
    {
     "name": "stdout",
     "output_type": "stream",
     "text": [
      "Accuracy of temperature in weather data:  1.0\n",
      "Accuracy of relative humidity in weather data:  1.0\n",
      "Accuracy of wind in weather data:  1.0\n",
      "Accuracy of precipitations in weather data:  1.0\n"
     ]
    }
   ],
   "source": [
    "temp_max = 39.3\n",
    "temp_min = -17.3\n",
    "\n",
    "cons_temp_count = 0\n",
    "cons_rh_count = 0\n",
    "cons_wind_count = 0\n",
    "cons_prcp_count = 0\n",
    "m_temp = 0\n",
    "m_wind = 0\n",
    "m_rh = 0\n",
    "m_prcp = 0\n",
    "for doc in document_list_weather:\n",
    "    if 'temp' in doc.keys():\n",
    "        m_temp += 1\n",
    "        if temp_max >= int(doc['temp']) >= temp_min:\n",
    "            cons_temp_count += 1\n",
    "    if 'rhum'in doc.keys():\n",
    "        m_rh += 1\n",
    "        if 100 >= int(doc['rhum']) >= 0:\n",
    "            cons_rh_count += 1\n",
    "    if 'wspd' in doc.keys():\n",
    "        m_wind += 1\n",
    "        if int(doc['wspd']) >= 0:\n",
    "            cons_wind_count += 1\n",
    "    if 'prcp' in doc.keys():\n",
    "        m_prcp += 1\n",
    "        if int(doc['prcp']) >= 0:\n",
    "            cons_prcp_count += 1\n",
    "\n",
    "consistency_temp = cons_temp_count/m_temp\n",
    "consistency_rh = cons_rh_count/m_rh\n",
    "consistency_wind = cons_wind_count/m_wind\n",
    "consistency_prcp = cons_prcp_count/m_prcp\n",
    "\n",
    "print('Accuracy of temperature in weather data: ', consistency_temp)\n",
    "print('Accuracy of relative humidity in weather data: ', consistency_rh)\n",
    "print('Accuracy of wind in weather data: ', consistency_wind)\n",
    "print('Accuracy of precipitations in weather data: ', consistency_prcp)"
   ],
   "metadata": {
    "collapsed": false,
    "ExecuteTime": {
     "end_time": "2024-02-17T13:52:52.481155600Z",
     "start_time": "2024-02-17T13:52:52.403021300Z"
    }
   },
   "id": "10c32a2b4685f2fa"
  },
  {
   "cell_type": "markdown",
   "source": [
    "##Cleaning and integration"
   ],
   "metadata": {
    "collapsed": false
   },
   "id": "4963d3e760876e3d"
  },
  {
   "cell_type": "markdown",
   "source": [
    "##AQI"
   ],
   "metadata": {
    "collapsed": false
   },
   "id": "8c40e342ed4cce4d"
  },
  {
   "cell_type": "code",
   "execution_count": 25,
   "outputs": [],
   "source": [
    "#remove pm1 value because the number of null\n",
    "for d in document_list_aqi:  \n",
    "    index = document_list_aqi.index(d)\n",
    "    if 'pm 1' in d.keys():\n",
    "        del d['pm 1']\n",
    "        document_list_aqi[index] = d"
   ],
   "metadata": {
    "collapsed": false,
    "ExecuteTime": {
     "end_time": "2024-02-17T13:52:53.564916600Z",
     "start_time": "2024-02-17T13:52:52.434300200Z"
    }
   },
   "id": "a59a3133a830c889"
  },
  {
   "cell_type": "code",
   "execution_count": 26,
   "outputs": [],
   "source": [
    "#add geographical coordinates of aqi stations\n",
    "\n",
    "for d in document_list_aqi:  \n",
    "    station_id = d['station id']\n",
    "    \n",
    "    for cord in document_list_geocoding:\n",
    "        \n",
    "        if station_id == cord['station']:\n",
    "            #d['location'] = {'lat': cord['lat'], 'lng': cord['lng']}\n",
    "            d['location'] = (cord['lat'], cord['lng'])\n",
    "            document_list_aqi[document_list_aqi.index(d)] = d"
   ],
   "metadata": {
    "collapsed": false,
    "ExecuteTime": {
     "end_time": "2024-02-17T13:52:55.104698900Z",
     "start_time": "2024-02-17T13:52:53.564916600Z"
    }
   },
   "id": "f756d9d0839283a4"
  },
  {
   "cell_type": "code",
   "execution_count": 27,
   "outputs": [],
   "source": [
    "#delete wetather infromation from aqi data\n",
    "for doc in document_list_aqi:\n",
    "    if 'pressure' in doc.keys():\n",
    "        del doc['pressure']\n",
    "    if 'temp' in doc.keys():\n",
    "        del doc['temp']\n",
    "    if 'r.h' in doc.keys():\n",
    "        del doc['r.h']\n",
    "    if 'wind' in doc.keys():\n",
    "        del doc['wind']\n",
    "    \n",
    "    "
   ],
   "metadata": {
    "collapsed": false,
    "ExecuteTime": {
     "end_time": "2024-02-17T13:52:55.169270800Z",
     "start_time": "2024-02-17T13:52:55.104698900Z"
    }
   },
   "id": "3bdfac995a3fdb6e"
  },
  {
   "cell_type": "markdown",
   "source": [
    "##WEATHER DATA"
   ],
   "metadata": {
    "collapsed": false
   },
   "id": "751fc2629aa0eeeb"
  },
  {
   "cell_type": "code",
   "execution_count": 28,
   "outputs": [],
   "source": [
    "#remove tsun and snow because the numbers of null values\n",
    "for doc in document_list_weather:\n",
    "    if 'snow' in doc.keys():\n",
    "        del doc['snow']\n",
    "    if 'tsun' in doc.keys():\n",
    "        del doc['tsun']\n",
    "    \n",
    "    "
   ],
   "metadata": {
    "collapsed": false,
    "ExecuteTime": {
     "end_time": "2024-02-17T13:52:55.200835900Z",
     "start_time": "2024-02-17T13:52:55.169270800Z"
    }
   },
   "id": "c650eaad7f1d9e35"
  },
  {
   "cell_type": "markdown",
   "source": [
    "##TRAFFIC DATA"
   ],
   "metadata": {
    "collapsed": false
   },
   "id": "f060c4ad888d41d0"
  },
  {
   "cell_type": "code",
   "execution_count": 29,
   "outputs": [],
   "source": [
    "#convert from m/s to km/h\n",
    "index = 0\n",
    "for doc in document_list_traffic:\n",
    "    \n",
    "    currentFlow = doc['currentFlow']\n",
    "    \n",
    "    if 'speed' in currentFlow.keys():\n",
    "        currentFlow['speed'] = currentFlow['speed'] * 3.6\n",
    "        \n",
    "    if 'speedUncapped' in currentFlow.keys():\n",
    "        currentFlow['speedUncapped'] = currentFlow['speedUncapped'] * 3.6\n",
    "        \n",
    "    if 'freeFlow' in currentFlow.keys():\n",
    "        currentFlow['freeFlow'] = currentFlow['freeFlow'] * 3.6\n",
    "    \n",
    "    document_list_traffic[index]['currentFlow'] = currentFlow\n",
    "    index += 1 "
   ],
   "metadata": {
    "collapsed": false,
    "ExecuteTime": {
     "end_time": "2024-02-17T13:52:55.708343Z",
     "start_time": "2024-02-17T13:52:55.200835900Z"
    }
   },
   "id": "cf645c3d6c61bdeb"
  },
  {
   "cell_type": "code",
   "execution_count": 30,
   "outputs": [],
   "source": [
    "#computing the first and the last point of the street from the shape\n",
    "index = 0\n",
    "for doc in document_list_traffic:\n",
    "    loc = doc['location']\n",
    "    shape = loc['shape']\n",
    "    links = shape['links']\n",
    "    \n",
    "    first_link = links[0]\n",
    "    first_point = (first_link['points'][0]['lat'], first_link['points'][0]['lng'])\n",
    "    \n",
    "    last_link = links[-1]\n",
    "    last_point = (last_link['points'][-1]['lat'], last_link['points'][-1]['lng'])\n",
    "    document_list_traffic[index]['location']['start point'] = first_point\n",
    "    document_list_traffic[index]['location']['end point'] = last_point\n",
    "    index += 1"
   ],
   "metadata": {
    "collapsed": false,
    "ExecuteTime": {
     "end_time": "2024-02-17T13:52:57.372294100Z",
     "start_time": "2024-02-17T13:52:55.709332900Z"
    }
   },
   "id": "aef05b2743f7df29"
  },
  {
   "cell_type": "code",
   "execution_count": 31,
   "outputs": [],
   "source": [
    "#definetly remove the encoding error\n",
    "for doc in document_list_traffic:\n",
    "    if 'description' in doc['location'].keys():\n",
    "        if 'Ã' in doc['location']['description']:\n",
    "            desc = doc['location']['description']\n",
    "            desc = desc[0:desc.find('Ã')]\n",
    "            document_list_traffic[document_list_traffic.index(doc)]['location']['description'] = desc\n",
    "    "
   ],
   "metadata": {
    "collapsed": false,
    "ExecuteTime": {
     "end_time": "2024-02-17T13:53:29.580236600Z",
     "start_time": "2024-02-17T13:52:57.372294100Z"
    }
   },
   "id": "242eeb4fb9e4025b"
  },
  {
   "cell_type": "code",
   "execution_count": 32,
   "outputs": [],
   "source": [
    "#removing null attributes\n",
    "for doc in document_list_traffic:\n",
    "    flow = doc['currentFlow']\n",
    "    location = doc['location']\n",
    "    \n",
    "    if 'junctionTraversability' in flow.keys():\n",
    "        del doc['currentFlow']['junctionTraversability']\n",
    "    if 'jamTendency' in flow.keys():\n",
    "        del doc['currentFlow']['jamTendency']\n",
    "    if 'no infos' in flow.keys():\n",
    "        del doc['currentFlow']['no infos']\n",
    "    if 'subSegments' in flow.keys():\n",
    "        del doc['currentFlow']['subSegments']"
   ],
   "metadata": {
    "collapsed": false,
    "ExecuteTime": {
     "end_time": "2024-02-17T13:53:30.019889100Z",
     "start_time": "2024-02-17T13:53:29.580236600Z"
    }
   },
   "id": "cea5d406de74ea9c"
  },
  {
   "cell_type": "code",
   "execution_count": 33,
   "outputs": [],
   "source": [
    "#remove record with null traffic infos\n",
    "for doc in document_list_traffic:\n",
    "    flow = doc['currentFlow']\n",
    "    if 'speed' not in flow.keys() or 'speedUncapped' not in flow.keys() or 'speedUncapped' not in flow.keys() or 'jamFactor' not in flow.keys() or 'confidence' not in flow.keys():\n",
    "        index = document_list_traffic.index(doc)\n",
    "        del document_list_traffic[index]"
   ],
   "metadata": {
    "collapsed": false,
    "ExecuteTime": {
     "end_time": "2024-02-17T13:54:05.157949Z",
     "start_time": "2024-02-17T13:53:30.019889100Z"
    }
   },
   "id": "15006bcfb4075d40"
  },
  {
   "cell_type": "code",
   "execution_count": 34,
   "outputs": [],
   "source": [
    "#remove records with null location description\n",
    "for doc in document_list_traffic:\n",
    "   location = doc['location']\n",
    "   if 'description' not in location.keys():\n",
    "       index = document_list_traffic.index(doc)\n",
    "       del document_list_traffic[index]"
   ],
   "metadata": {
    "collapsed": false,
    "ExecuteTime": {
     "end_time": "2024-02-17T13:59:03.447334100Z",
     "start_time": "2024-02-17T13:54:05.169611400Z"
    }
   },
   "id": "803e96f424d8445d"
  },
  {
   "cell_type": "code",
   "execution_count": 35,
   "outputs": [],
   "source": [
    "#fix the inconsistency between jamfactor and speed\n",
    "for doc in document_list_traffic:\n",
    "    \n",
    "    flow = doc['currentFlow']\n",
    "    if 'speed' in flow.keys() and 'freeFlow' in flow.keys() and 'jamFactor' in flow.keys():\n",
    "        if flow['jamFactor'] > 0:\n",
    "            if flow['speed'] > flow['freeFlow']:\n",
    "                document_list_traffic[document_list_traffic.index(doc)]['currentFlow']['jamFactor'] = 0"
   ],
   "metadata": {
    "collapsed": false,
    "ExecuteTime": {
     "end_time": "2024-02-17T13:59:04.297711600Z",
     "start_time": "2024-02-17T13:59:03.447334100Z"
    }
   },
   "id": "5d8860ae64e940e4"
  },
  {
   "cell_type": "markdown",
   "source": [
    "##STANDARDIZE DATETIME FORMAT AND TIMES"
   ],
   "metadata": {
    "collapsed": false
   },
   "id": "17b627c3bc407adf"
  },
  {
   "cell_type": "code",
   "execution_count": 36,
   "outputs": [],
   "source": [
    "\n",
    "index = 0\n",
    "for doc in document_list_aqi:\n",
    "    time = doc['time']\n",
    "    std_time = time[11:13] + ':00:00'\n",
    "    date = time[0:10]\n",
    "    date = date.replace('/', '-')\n",
    "    datetime = date +' '+ std_time\n",
    "    document_list_aqi[index]['time'] = datetime\n",
    "    index += 1"
   ],
   "metadata": {
    "collapsed": false,
    "ExecuteTime": {
     "end_time": "2024-02-17T13:59:04.345032Z",
     "start_time": "2024-02-17T13:59:04.297711600Z"
    }
   },
   "id": "234e815b32a28d2b"
  },
  {
   "cell_type": "code",
   "execution_count": 37,
   "outputs": [],
   "source": [
    "index = 0\n",
    "for doc in document_list_traffic:\n",
    "    datetime = doc['datetime']\n",
    "    if datetime[14:15] == '5':\n",
    "        if datetime[11:13] == '23':\n",
    "            new_hour = str(int(datetime[11:13])+1)\n",
    "            new_min = '00'\n",
    "            new_day = str(int(datetime[8:10])+1)\n",
    "            if len(new_day) == 1:\n",
    "                new_day = '0'+new_day\n",
    "            if len(new_hour) == 1:\n",
    "                new_hour = '0'+new_hour\n",
    "            new_dt = datetime[:8]+new_day+'T'+new_hour+':'+new_min+datetime[16:]\n",
    "            document_list_traffic[index]['datetime'] = new_dt\n",
    "        else:\n",
    "            new_hour = str(int(datetime[11:13])+1)\n",
    "            new_min = '00'\n",
    "            if len(new_hour) == 1:\n",
    "                new_hour = '0'+new_hour\n",
    "            new_dt = datetime[:11]+new_hour+':'+new_min+datetime[16:]\n",
    "            document_list_traffic[index]['datetime'] = new_dt\n",
    "    index += 1\n",
    "        "
   ],
   "metadata": {
    "collapsed": false,
    "ExecuteTime": {
     "end_time": "2024-02-17T13:59:04.615439Z",
     "start_time": "2024-02-17T13:59:04.329383500Z"
    }
   },
   "id": "24bd1c038d1b074d"
  },
  {
   "cell_type": "code",
   "execution_count": 38,
   "outputs": [],
   "source": [
    "index = 0\n",
    "for doc in document_list_traffic:\n",
    "    datetime = doc['datetime']\n",
    "    date = datetime[:10]\n",
    "    year = date[:4]\n",
    "    month = date[5:7]\n",
    "    day = date[8:10]\n",
    "    new_date = day+'-'+month+'-'+year\n",
    "    time = datetime[11:]\n",
    "    time = time[:2]+':00:00'\n",
    "    document_list_traffic[index]['datetime'] = new_date+' '+time\n",
    "    index +=1"
   ],
   "metadata": {
    "collapsed": false,
    "ExecuteTime": {
     "end_time": "2024-02-17T13:59:04.965634900Z",
     "start_time": "2024-02-17T13:59:04.615439Z"
    }
   },
   "id": "9cf8545d17fa7df9"
  },
  {
   "cell_type": "code",
   "execution_count": 39,
   "outputs": [],
   "source": [
    "index = 0\n",
    "for doc in document_list_weather:\n",
    "    datetime = doc['datetime']\n",
    "    date = datetime[:10]\n",
    "    year = date[:4]\n",
    "    month = date[5:7]\n",
    "    day = date[8:10]\n",
    "    new_date = day+'-'+month+'-'+year\n",
    "    time = datetime[11:]\n",
    "    new_datetime = new_date+' '+time\n",
    "    document_list_weather[index]['datetime'] = new_datetime\n",
    "    index +=1"
   ],
   "metadata": {
    "collapsed": false,
    "ExecuteTime": {
     "end_time": "2024-02-17T13:59:04.995299900Z",
     "start_time": "2024-02-17T13:59:04.965634900Z"
    }
   },
   "id": "674c5f9faf9f24e"
  },
  {
   "cell_type": "code",
   "execution_count": 40,
   "outputs": [],
   "source": [
    "index = 0\n",
    "for doc in document_list_aqiAPI:\n",
    "    datetime = doc['datetime']\n",
    "    date = datetime[:10]\n",
    "    year = date[:4]\n",
    "    month = date[5:7]\n",
    "    day = date[8:10]\n",
    "    new_date = day+'-'+month+'-'+year\n",
    "    time = datetime[11:]\n",
    "    new_datetime = new_date+' '+time\n",
    "    document_list_aqiAPI[index]['datetime'] = new_datetime\n",
    "    index += 1"
   ],
   "metadata": {
    "collapsed": false,
    "ExecuteTime": {
     "end_time": "2024-02-17T13:59:05.010943400Z",
     "start_time": "2024-02-17T13:59:04.995299900Z"
    }
   },
   "id": "c7a497904dee10e7"
  },
  {
   "cell_type": "markdown",
   "source": [
    "##DATA INTEGRATION"
   ],
   "metadata": {
    "collapsed": false
   },
   "id": "6e2fd7c0858f2173"
  },
  {
   "cell_type": "code",
   "execution_count": 41,
   "outputs": [
    {
     "data": {
      "text/plain": "                           _id  temp  dwpt   rhum  prcp   wdir  wspd  wpgt  \\\n0     65cdfe48adcb82fd86ce92a3   4.0   2.4   89.0   0.0    0.0   0.0   5.5   \n1     65cdfe48adcb82fd86ce92a4   3.3   1.3   87.0   0.0    0.0   2.0   5.5   \n2     65cdfe48adcb82fd86ce92a5   3.5   2.6   94.0   0.0    0.0   2.0   5.5   \n3     65cdfe48adcb82fd86ce92a6   2.6   1.7   94.0   0.0   30.0   4.0   3.7   \n4     65cdfe48adcb82fd86ce92a7   2.5   1.8   95.0   0.0    0.0   0.0   7.4   \n...                        ...   ...   ...    ...   ...    ...   ...   ...   \n4092  65cdfe4aadcb82fd86cea29f   5.5   5.5  100.0   0.0  360.0   5.0   9.3   \n4093  65cdfe4aadcb82fd86cea2a0   6.5   6.5  100.0   0.0  350.0   5.0   9.3   \n4094  65cdfe4aadcb82fd86cea2a1   6.0   5.7   98.0   0.0  320.0   4.0   9.3   \n4095  65cdfe4aadcb82fd86cea2a2   6.2   6.2  100.0   0.0    0.0   2.0   9.3   \n4096  65cdfe4aadcb82fd86cea2a3   6.7   6.7  100.0   0.0    0.0   2.0   9.3   \n\n        pres  coco             datetime  station  \n0     1028.3   2.0  03-02-2024 00:00:00    98497  \n1     1028.2   2.0  03-02-2024 01:00:00    98497  \n2     1027.7   2.0  03-02-2024 02:00:00    98497  \n3     1027.4   1.0  03-02-2024 03:00:00    98497  \n4     1027.4   1.0  03-02-2024 04:00:00    98497  \n...      ...   ...                  ...      ...  \n4092  1009.5   2.0  12-02-2024 20:00:00   193501  \n4093  1010.4   2.0  12-02-2024 21:00:00   193501  \n4094  1011.1   2.0  12-02-2024 22:00:00   193501  \n4095  1011.7   2.0  12-02-2024 23:00:00   193501  \n4096  1012.1   2.0  13-02-2024 00:00:00   193501  \n\n[4097 rows x 12 columns]",
      "text/html": "<div>\n<style scoped>\n    .dataframe tbody tr th:only-of-type {\n        vertical-align: middle;\n    }\n\n    .dataframe tbody tr th {\n        vertical-align: top;\n    }\n\n    .dataframe thead th {\n        text-align: right;\n    }\n</style>\n<table border=\"1\" class=\"dataframe\">\n  <thead>\n    <tr style=\"text-align: right;\">\n      <th></th>\n      <th>_id</th>\n      <th>temp</th>\n      <th>dwpt</th>\n      <th>rhum</th>\n      <th>prcp</th>\n      <th>wdir</th>\n      <th>wspd</th>\n      <th>wpgt</th>\n      <th>pres</th>\n      <th>coco</th>\n      <th>datetime</th>\n      <th>station</th>\n    </tr>\n  </thead>\n  <tbody>\n    <tr>\n      <th>0</th>\n      <td>65cdfe48adcb82fd86ce92a3</td>\n      <td>4.0</td>\n      <td>2.4</td>\n      <td>89.0</td>\n      <td>0.0</td>\n      <td>0.0</td>\n      <td>0.0</td>\n      <td>5.5</td>\n      <td>1028.3</td>\n      <td>2.0</td>\n      <td>03-02-2024 00:00:00</td>\n      <td>98497</td>\n    </tr>\n    <tr>\n      <th>1</th>\n      <td>65cdfe48adcb82fd86ce92a4</td>\n      <td>3.3</td>\n      <td>1.3</td>\n      <td>87.0</td>\n      <td>0.0</td>\n      <td>0.0</td>\n      <td>2.0</td>\n      <td>5.5</td>\n      <td>1028.2</td>\n      <td>2.0</td>\n      <td>03-02-2024 01:00:00</td>\n      <td>98497</td>\n    </tr>\n    <tr>\n      <th>2</th>\n      <td>65cdfe48adcb82fd86ce92a5</td>\n      <td>3.5</td>\n      <td>2.6</td>\n      <td>94.0</td>\n      <td>0.0</td>\n      <td>0.0</td>\n      <td>2.0</td>\n      <td>5.5</td>\n      <td>1027.7</td>\n      <td>2.0</td>\n      <td>03-02-2024 02:00:00</td>\n      <td>98497</td>\n    </tr>\n    <tr>\n      <th>3</th>\n      <td>65cdfe48adcb82fd86ce92a6</td>\n      <td>2.6</td>\n      <td>1.7</td>\n      <td>94.0</td>\n      <td>0.0</td>\n      <td>30.0</td>\n      <td>4.0</td>\n      <td>3.7</td>\n      <td>1027.4</td>\n      <td>1.0</td>\n      <td>03-02-2024 03:00:00</td>\n      <td>98497</td>\n    </tr>\n    <tr>\n      <th>4</th>\n      <td>65cdfe48adcb82fd86ce92a7</td>\n      <td>2.5</td>\n      <td>1.8</td>\n      <td>95.0</td>\n      <td>0.0</td>\n      <td>0.0</td>\n      <td>0.0</td>\n      <td>7.4</td>\n      <td>1027.4</td>\n      <td>1.0</td>\n      <td>03-02-2024 04:00:00</td>\n      <td>98497</td>\n    </tr>\n    <tr>\n      <th>...</th>\n      <td>...</td>\n      <td>...</td>\n      <td>...</td>\n      <td>...</td>\n      <td>...</td>\n      <td>...</td>\n      <td>...</td>\n      <td>...</td>\n      <td>...</td>\n      <td>...</td>\n      <td>...</td>\n      <td>...</td>\n    </tr>\n    <tr>\n      <th>4092</th>\n      <td>65cdfe4aadcb82fd86cea29f</td>\n      <td>5.5</td>\n      <td>5.5</td>\n      <td>100.0</td>\n      <td>0.0</td>\n      <td>360.0</td>\n      <td>5.0</td>\n      <td>9.3</td>\n      <td>1009.5</td>\n      <td>2.0</td>\n      <td>12-02-2024 20:00:00</td>\n      <td>193501</td>\n    </tr>\n    <tr>\n      <th>4093</th>\n      <td>65cdfe4aadcb82fd86cea2a0</td>\n      <td>6.5</td>\n      <td>6.5</td>\n      <td>100.0</td>\n      <td>0.0</td>\n      <td>350.0</td>\n      <td>5.0</td>\n      <td>9.3</td>\n      <td>1010.4</td>\n      <td>2.0</td>\n      <td>12-02-2024 21:00:00</td>\n      <td>193501</td>\n    </tr>\n    <tr>\n      <th>4094</th>\n      <td>65cdfe4aadcb82fd86cea2a1</td>\n      <td>6.0</td>\n      <td>5.7</td>\n      <td>98.0</td>\n      <td>0.0</td>\n      <td>320.0</td>\n      <td>4.0</td>\n      <td>9.3</td>\n      <td>1011.1</td>\n      <td>2.0</td>\n      <td>12-02-2024 22:00:00</td>\n      <td>193501</td>\n    </tr>\n    <tr>\n      <th>4095</th>\n      <td>65cdfe4aadcb82fd86cea2a2</td>\n      <td>6.2</td>\n      <td>6.2</td>\n      <td>100.0</td>\n      <td>0.0</td>\n      <td>0.0</td>\n      <td>2.0</td>\n      <td>9.3</td>\n      <td>1011.7</td>\n      <td>2.0</td>\n      <td>12-02-2024 23:00:00</td>\n      <td>193501</td>\n    </tr>\n    <tr>\n      <th>4096</th>\n      <td>65cdfe4aadcb82fd86cea2a3</td>\n      <td>6.7</td>\n      <td>6.7</td>\n      <td>100.0</td>\n      <td>0.0</td>\n      <td>0.0</td>\n      <td>2.0</td>\n      <td>9.3</td>\n      <td>1012.1</td>\n      <td>2.0</td>\n      <td>13-02-2024 00:00:00</td>\n      <td>193501</td>\n    </tr>\n  </tbody>\n</table>\n<p>4097 rows × 12 columns</p>\n</div>"
     },
     "execution_count": 41,
     "metadata": {},
     "output_type": "execute_result"
    }
   ],
   "source": [
    "df_weather = pd.DataFrame.from_records(document_list_weather)\n",
    "df_weather"
   ],
   "metadata": {
    "collapsed": false,
    "ExecuteTime": {
     "end_time": "2024-02-17T13:59:05.057846800Z",
     "start_time": "2024-02-17T13:59:05.010943400Z"
    }
   },
   "id": "39f4054fcc54b000"
  },
  {
   "cell_type": "code",
   "execution_count": 42,
   "outputs": [
    {
     "data": {
      "text/plain": "                           _id  station id                 time aqi aqi_level  \\\n0     65cdfe48adcb82fd86ce85f4       98497  04-02-2024 00:00:00  51  Moderate   \n1     65cdfe48adcb82fd86ce85f5      107293  04-02-2024 00:00:00  37      Good   \n2     65cdfe48adcb82fd86ce85f6       98494  04-02-2024 00:00:00  33      Good   \n3     65cdfe48adcb82fd86ce85f7       98485  04-02-2024 00:00:00  42      Good   \n4     65cdfe48adcb82fd86ce85f8      460336  04-02-2024 00:00:00  89  Moderate   \n...                        ...         ...                  ...  ..       ...   \n3242  65cdfe48adcb82fd86ce929e      116353  09-02-2024 08:00:00  43      Good   \n3243  65cdfe48adcb82fd86ce929f      246697  09-02-2024 08:00:00  62  Moderate   \n3244  65cdfe48adcb82fd86ce92a0      196504  09-02-2024 08:00:00  88  Moderate   \n3245  65cdfe48adcb82fd86ce92a1       74863  09-02-2024 08:00:00  95  Moderate   \n3246  65cdfe48adcb82fd86ce92a2      193501  09-02-2024 08:00:00  57  Moderate   \n\n     pm 2.5 pm 10                                 location  \n0        51    19                  (45.5452297, 9.2336167)  \n1        37    15                  (45.5540815, 9.2603531)  \n2        33    11                  (45.5396143, 9.2365339)  \n3        42    22                  (45.5255896, 9.2285405)  \n4        89    29  (45.496831549999996, 9.167650701677125)  \n...     ...   ...                                      ...  \n3242     43    23                  (45.4679729, 9.1235389)  \n3243     62    38                  (45.4429376, 9.2109626)  \n3244     88    44                   (45.4394463, 9.178421)  \n3245     95    51                  (45.4265036, 9.2076193)  \n3246     57    27                  (45.4452809, 9.0937168)  \n\n[3247 rows x 8 columns]",
      "text/html": "<div>\n<style scoped>\n    .dataframe tbody tr th:only-of-type {\n        vertical-align: middle;\n    }\n\n    .dataframe tbody tr th {\n        vertical-align: top;\n    }\n\n    .dataframe thead th {\n        text-align: right;\n    }\n</style>\n<table border=\"1\" class=\"dataframe\">\n  <thead>\n    <tr style=\"text-align: right;\">\n      <th></th>\n      <th>_id</th>\n      <th>station id</th>\n      <th>time</th>\n      <th>aqi</th>\n      <th>aqi_level</th>\n      <th>pm 2.5</th>\n      <th>pm 10</th>\n      <th>location</th>\n    </tr>\n  </thead>\n  <tbody>\n    <tr>\n      <th>0</th>\n      <td>65cdfe48adcb82fd86ce85f4</td>\n      <td>98497</td>\n      <td>04-02-2024 00:00:00</td>\n      <td>51</td>\n      <td>Moderate</td>\n      <td>51</td>\n      <td>19</td>\n      <td>(45.5452297, 9.2336167)</td>\n    </tr>\n    <tr>\n      <th>1</th>\n      <td>65cdfe48adcb82fd86ce85f5</td>\n      <td>107293</td>\n      <td>04-02-2024 00:00:00</td>\n      <td>37</td>\n      <td>Good</td>\n      <td>37</td>\n      <td>15</td>\n      <td>(45.5540815, 9.2603531)</td>\n    </tr>\n    <tr>\n      <th>2</th>\n      <td>65cdfe48adcb82fd86ce85f6</td>\n      <td>98494</td>\n      <td>04-02-2024 00:00:00</td>\n      <td>33</td>\n      <td>Good</td>\n      <td>33</td>\n      <td>11</td>\n      <td>(45.5396143, 9.2365339)</td>\n    </tr>\n    <tr>\n      <th>3</th>\n      <td>65cdfe48adcb82fd86ce85f7</td>\n      <td>98485</td>\n      <td>04-02-2024 00:00:00</td>\n      <td>42</td>\n      <td>Good</td>\n      <td>42</td>\n      <td>22</td>\n      <td>(45.5255896, 9.2285405)</td>\n    </tr>\n    <tr>\n      <th>4</th>\n      <td>65cdfe48adcb82fd86ce85f8</td>\n      <td>460336</td>\n      <td>04-02-2024 00:00:00</td>\n      <td>89</td>\n      <td>Moderate</td>\n      <td>89</td>\n      <td>29</td>\n      <td>(45.496831549999996, 9.167650701677125)</td>\n    </tr>\n    <tr>\n      <th>...</th>\n      <td>...</td>\n      <td>...</td>\n      <td>...</td>\n      <td>...</td>\n      <td>...</td>\n      <td>...</td>\n      <td>...</td>\n      <td>...</td>\n    </tr>\n    <tr>\n      <th>3242</th>\n      <td>65cdfe48adcb82fd86ce929e</td>\n      <td>116353</td>\n      <td>09-02-2024 08:00:00</td>\n      <td>43</td>\n      <td>Good</td>\n      <td>43</td>\n      <td>23</td>\n      <td>(45.4679729, 9.1235389)</td>\n    </tr>\n    <tr>\n      <th>3243</th>\n      <td>65cdfe48adcb82fd86ce929f</td>\n      <td>246697</td>\n      <td>09-02-2024 08:00:00</td>\n      <td>62</td>\n      <td>Moderate</td>\n      <td>62</td>\n      <td>38</td>\n      <td>(45.4429376, 9.2109626)</td>\n    </tr>\n    <tr>\n      <th>3244</th>\n      <td>65cdfe48adcb82fd86ce92a0</td>\n      <td>196504</td>\n      <td>09-02-2024 08:00:00</td>\n      <td>88</td>\n      <td>Moderate</td>\n      <td>88</td>\n      <td>44</td>\n      <td>(45.4394463, 9.178421)</td>\n    </tr>\n    <tr>\n      <th>3245</th>\n      <td>65cdfe48adcb82fd86ce92a1</td>\n      <td>74863</td>\n      <td>09-02-2024 08:00:00</td>\n      <td>95</td>\n      <td>Moderate</td>\n      <td>95</td>\n      <td>51</td>\n      <td>(45.4265036, 9.2076193)</td>\n    </tr>\n    <tr>\n      <th>3246</th>\n      <td>65cdfe48adcb82fd86ce92a2</td>\n      <td>193501</td>\n      <td>09-02-2024 08:00:00</td>\n      <td>57</td>\n      <td>Moderate</td>\n      <td>57</td>\n      <td>27</td>\n      <td>(45.4452809, 9.0937168)</td>\n    </tr>\n  </tbody>\n</table>\n<p>3247 rows × 8 columns</p>\n</div>"
     },
     "execution_count": 42,
     "metadata": {},
     "output_type": "execute_result"
    }
   ],
   "source": [
    "df_aqi = pd.DataFrame.from_records(document_list_aqi)\n",
    "df_aqi"
   ],
   "metadata": {
    "collapsed": false,
    "ExecuteTime": {
     "end_time": "2024-02-17T13:59:05.183839900Z",
     "start_time": "2024-02-17T13:59:05.057846800Z"
    }
   },
   "id": "739c664a1e27794"
  },
  {
   "cell_type": "code",
   "execution_count": 43,
   "outputs": [],
   "source": [
    "location_list = []\n",
    "for d in document_list_traffic:\n",
    "    location_list.append(d['location'])"
   ],
   "metadata": {
    "collapsed": false,
    "ExecuteTime": {
     "end_time": "2024-02-17T13:59:05.356199900Z",
     "start_time": "2024-02-17T13:59:05.104695400Z"
    }
   },
   "id": "e717650b0242d20a"
  },
  {
   "cell_type": "code",
   "execution_count": 44,
   "outputs": [],
   "source": [
    "traffic_list = []\n",
    "for d in document_list_traffic:\n",
    "    traffic_list.append(d['currentFlow'])"
   ],
   "metadata": {
    "collapsed": false,
    "ExecuteTime": {
     "end_time": "2024-02-17T13:59:05.465105Z",
     "start_time": "2024-02-17T13:59:05.277822500Z"
    }
   },
   "id": "501ab61714bf7e6c"
  },
  {
   "cell_type": "code",
   "execution_count": 45,
   "outputs": [],
   "source": [
    "datetime_list = []\n",
    "for d in document_list_traffic:\n",
    "    datetime_list.append(d['datetime'])"
   ],
   "metadata": {
    "collapsed": false,
    "ExecuteTime": {
     "end_time": "2024-02-17T13:59:05.633200Z",
     "start_time": "2024-02-17T13:59:05.465105Z"
    }
   },
   "id": "b7d41879cbd12fbb"
  },
  {
   "cell_type": "code",
   "execution_count": 46,
   "outputs": [],
   "source": [
    "location_df = pd.DataFrame.from_records(location_list)\n",
    "flow_df = pd.DataFrame.from_records(traffic_list)"
   ],
   "metadata": {
    "collapsed": false,
    "ExecuteTime": {
     "end_time": "2024-02-17T13:59:08.033116400Z",
     "start_time": "2024-02-17T13:59:05.633200Z"
    }
   },
   "id": "a0b4e901b12f9640"
  },
  {
   "cell_type": "code",
   "execution_count": 47,
   "outputs": [
    {
     "data": {
      "text/plain": "                     description  length  \\\n0  Uscita 5 - Palazzolo Milanese   403.0   \n1             SP13-Viale Sicilia    46.0   \n2                        Muggio'  2350.0   \n3         Piazzale Giulio Cesare   394.0   \n4                  SP103-Segrate  2656.0   \n\n                                               shape          start point  \\\n0  {'links': [{'points': [{'lat': 45.57636, 'lng'...  (45.57636, 9.17601)   \n1  {'links': [{'points': [{'lat': 45.5809, 'lng':...    (45.5809, 9.3098)   \n2  {'links': [{'points': [{'lat': 45.592, 'lng': ...    (45.592, 9.19793)   \n3  {'links': [{'points': [{'lat': 45.47055, 'lng'...  (45.47055, 9.15555)   \n4  {'links': [{'points': [{'lat': 45.47797, 'lng'...  (45.47797, 9.30407)   \n\n             end point  \n0   (45.57998, 9.1755)  \n1  (45.58124, 9.30994)  \n2   (45.59047, 9.2268)  \n3  (45.47352, 9.15519)  \n4   (45.4978, 9.30095)  ",
      "text/html": "<div>\n<style scoped>\n    .dataframe tbody tr th:only-of-type {\n        vertical-align: middle;\n    }\n\n    .dataframe tbody tr th {\n        vertical-align: top;\n    }\n\n    .dataframe thead th {\n        text-align: right;\n    }\n</style>\n<table border=\"1\" class=\"dataframe\">\n  <thead>\n    <tr style=\"text-align: right;\">\n      <th></th>\n      <th>description</th>\n      <th>length</th>\n      <th>shape</th>\n      <th>start point</th>\n      <th>end point</th>\n    </tr>\n  </thead>\n  <tbody>\n    <tr>\n      <th>0</th>\n      <td>Uscita 5 - Palazzolo Milanese</td>\n      <td>403.0</td>\n      <td>{'links': [{'points': [{'lat': 45.57636, 'lng'...</td>\n      <td>(45.57636, 9.17601)</td>\n      <td>(45.57998, 9.1755)</td>\n    </tr>\n    <tr>\n      <th>1</th>\n      <td>SP13-Viale Sicilia</td>\n      <td>46.0</td>\n      <td>{'links': [{'points': [{'lat': 45.5809, 'lng':...</td>\n      <td>(45.5809, 9.3098)</td>\n      <td>(45.58124, 9.30994)</td>\n    </tr>\n    <tr>\n      <th>2</th>\n      <td>Muggio'</td>\n      <td>2350.0</td>\n      <td>{'links': [{'points': [{'lat': 45.592, 'lng': ...</td>\n      <td>(45.592, 9.19793)</td>\n      <td>(45.59047, 9.2268)</td>\n    </tr>\n    <tr>\n      <th>3</th>\n      <td>Piazzale Giulio Cesare</td>\n      <td>394.0</td>\n      <td>{'links': [{'points': [{'lat': 45.47055, 'lng'...</td>\n      <td>(45.47055, 9.15555)</td>\n      <td>(45.47352, 9.15519)</td>\n    </tr>\n    <tr>\n      <th>4</th>\n      <td>SP103-Segrate</td>\n      <td>2656.0</td>\n      <td>{'links': [{'points': [{'lat': 45.47797, 'lng'...</td>\n      <td>(45.47797, 9.30407)</td>\n      <td>(45.4978, 9.30095)</td>\n    </tr>\n  </tbody>\n</table>\n</div>"
     },
     "execution_count": 47,
     "metadata": {},
     "output_type": "execute_result"
    }
   ],
   "source": [
    "location_df_unique = location_df.drop_duplicates(subset=['description', 'start point', 'end point'])\n",
    "location_df_unique.head()"
   ],
   "metadata": {
    "collapsed": false,
    "ExecuteTime": {
     "end_time": "2024-02-17T13:59:08.331603300Z",
     "start_time": "2024-02-17T13:59:08.045825200Z"
    }
   },
   "id": "258514c9cb0b6372"
  },
  {
   "cell_type": "code",
   "execution_count": 48,
   "outputs": [
    {
     "data": {
      "text/plain": "       description  length                                              shape  \\\n29991          NaN    33.0  {'links': [{'points': [{'lat': 45.39042, 'lng'...   \n32134          NaN   284.0  {'links': [{'points': [{'lat': 45.55712, 'lng'...   \n32207          NaN   101.0  {'links': [{'points': [{'lat': 45.5556, 'lng':...   \n35227          NaN    58.0  {'links': [{'points': [{'lat': 45.55719, 'lng'...   \n49007          NaN   789.0  {'links': [{'points': [{'lat': 45.49665, 'lng'...   \n...            ...     ...                                                ...   \n353123         NaN   262.0  {'links': [{'points': [{'lat': 45.54816, 'lng'...   \n353388         NaN   326.0  {'links': [{'points': [{'lat': 45.56874, 'lng'...   \n353656         NaN  1248.0  {'links': [{'points': [{'lat': 45.5367, 'lng':...   \n353699         NaN   367.0  {'links': [{'points': [{'lat': 45.51367, 'lng'...   \n353824         NaN   438.0  {'links': [{'points': [{'lat': 45.58959, 'lng'...   \n\n                start point            end point  \n29991    (45.39042, 9.1726)  (45.39013, 9.17254)  \n32134   (45.55712, 9.26737)  (45.55719, 9.26388)  \n32207     (45.5556, 9.2642)   (45.5553, 9.26299)  \n35227   (45.55719, 9.26388)  (45.55713, 9.26314)  \n49007   (45.49665, 9.17119)  (45.50237, 9.16557)  \n...                     ...                  ...  \n353123  (45.54816, 9.18609)   (45.54771, 9.1829)  \n353388  (45.56874, 9.24504)  (45.56593, 9.24384)  \n353656   (45.5367, 9.30522)  (45.52634, 9.31104)  \n353699  (45.51367, 9.03284)  (45.51436, 9.03737)  \n353824  (45.58959, 9.33107)   (45.58868, 9.3351)  \n\n[289 rows x 5 columns]",
      "text/html": "<div>\n<style scoped>\n    .dataframe tbody tr th:only-of-type {\n        vertical-align: middle;\n    }\n\n    .dataframe tbody tr th {\n        vertical-align: top;\n    }\n\n    .dataframe thead th {\n        text-align: right;\n    }\n</style>\n<table border=\"1\" class=\"dataframe\">\n  <thead>\n    <tr style=\"text-align: right;\">\n      <th></th>\n      <th>description</th>\n      <th>length</th>\n      <th>shape</th>\n      <th>start point</th>\n      <th>end point</th>\n    </tr>\n  </thead>\n  <tbody>\n    <tr>\n      <th>29991</th>\n      <td>NaN</td>\n      <td>33.0</td>\n      <td>{'links': [{'points': [{'lat': 45.39042, 'lng'...</td>\n      <td>(45.39042, 9.1726)</td>\n      <td>(45.39013, 9.17254)</td>\n    </tr>\n    <tr>\n      <th>32134</th>\n      <td>NaN</td>\n      <td>284.0</td>\n      <td>{'links': [{'points': [{'lat': 45.55712, 'lng'...</td>\n      <td>(45.55712, 9.26737)</td>\n      <td>(45.55719, 9.26388)</td>\n    </tr>\n    <tr>\n      <th>32207</th>\n      <td>NaN</td>\n      <td>101.0</td>\n      <td>{'links': [{'points': [{'lat': 45.5556, 'lng':...</td>\n      <td>(45.5556, 9.2642)</td>\n      <td>(45.5553, 9.26299)</td>\n    </tr>\n    <tr>\n      <th>35227</th>\n      <td>NaN</td>\n      <td>58.0</td>\n      <td>{'links': [{'points': [{'lat': 45.55719, 'lng'...</td>\n      <td>(45.55719, 9.26388)</td>\n      <td>(45.55713, 9.26314)</td>\n    </tr>\n    <tr>\n      <th>49007</th>\n      <td>NaN</td>\n      <td>789.0</td>\n      <td>{'links': [{'points': [{'lat': 45.49665, 'lng'...</td>\n      <td>(45.49665, 9.17119)</td>\n      <td>(45.50237, 9.16557)</td>\n    </tr>\n    <tr>\n      <th>...</th>\n      <td>...</td>\n      <td>...</td>\n      <td>...</td>\n      <td>...</td>\n      <td>...</td>\n    </tr>\n    <tr>\n      <th>353123</th>\n      <td>NaN</td>\n      <td>262.0</td>\n      <td>{'links': [{'points': [{'lat': 45.54816, 'lng'...</td>\n      <td>(45.54816, 9.18609)</td>\n      <td>(45.54771, 9.1829)</td>\n    </tr>\n    <tr>\n      <th>353388</th>\n      <td>NaN</td>\n      <td>326.0</td>\n      <td>{'links': [{'points': [{'lat': 45.56874, 'lng'...</td>\n      <td>(45.56874, 9.24504)</td>\n      <td>(45.56593, 9.24384)</td>\n    </tr>\n    <tr>\n      <th>353656</th>\n      <td>NaN</td>\n      <td>1248.0</td>\n      <td>{'links': [{'points': [{'lat': 45.5367, 'lng':...</td>\n      <td>(45.5367, 9.30522)</td>\n      <td>(45.52634, 9.31104)</td>\n    </tr>\n    <tr>\n      <th>353699</th>\n      <td>NaN</td>\n      <td>367.0</td>\n      <td>{'links': [{'points': [{'lat': 45.51367, 'lng'...</td>\n      <td>(45.51367, 9.03284)</td>\n      <td>(45.51436, 9.03737)</td>\n    </tr>\n    <tr>\n      <th>353824</th>\n      <td>NaN</td>\n      <td>438.0</td>\n      <td>{'links': [{'points': [{'lat': 45.58959, 'lng'...</td>\n      <td>(45.58959, 9.33107)</td>\n      <td>(45.58868, 9.3351)</td>\n    </tr>\n  </tbody>\n</table>\n<p>289 rows × 5 columns</p>\n</div>"
     },
     "execution_count": 48,
     "metadata": {},
     "output_type": "execute_result"
    }
   ],
   "source": [
    "location_df_unique[location_df_unique['description'].isnull()]\n"
   ],
   "metadata": {
    "collapsed": false,
    "ExecuteTime": {
     "end_time": "2024-02-17T13:59:08.455016400Z",
     "start_time": "2024-02-17T13:59:08.331603300Z"
    }
   },
   "id": "2ce150f02e002eab"
  },
  {
   "cell_type": "code",
   "execution_count": 49,
   "outputs": [],
   "source": [
    "import geopy.distance\n",
    "\n",
    "\n",
    "associated_stations = []\n",
    "for index,loc in location_df_unique.iterrows():\n",
    "    start = loc['start point']\n",
    "    end = loc['end point']\n",
    "    station_list = []\n",
    "    distances_list = []\n",
    "    for d in document_list_geocoding:\n",
    "        point = (d['lat'], d['lng'])\n",
    "        station = d['station']\n",
    "        station_list.append(station)\n",
    "        d1 = geopy.distance.geodesic(start, point).km\n",
    "        d2 = geopy.distance.geodesic(end, point).km\n",
    "        if d1 < d2:\n",
    "            distances_list.append(d1)\n",
    "        else:\n",
    "            distances_list.append(d2)\n",
    "    \n",
    "    associated_stations.append(station_list[distances_list.index(min(distances_list))])\n",
    "    \n",
    "            "
   ],
   "metadata": {
    "collapsed": false,
    "ExecuteTime": {
     "end_time": "2024-02-17T13:59:16.324749800Z",
     "start_time": "2024-02-17T13:59:08.360336200Z"
    }
   },
   "id": "baf175bf12a6a4e8"
  },
  {
   "cell_type": "code",
   "execution_count": 50,
   "outputs": [],
   "source": [
    "location_df_unique['station'] = associated_stations"
   ],
   "metadata": {
    "collapsed": false,
    "ExecuteTime": {
     "end_time": "2024-02-17T13:59:16.379615900Z",
     "start_time": "2024-02-17T13:59:16.324749800Z"
    }
   },
   "id": "7edb1f9eb316139b"
  },
  {
   "cell_type": "code",
   "execution_count": 51,
   "outputs": [],
   "source": [
    "location_df = pd.merge(location_df, location_df_unique, left_on=['description', 'start point', 'end point'], right_on=['description', 'start point', 'end point'])"
   ],
   "metadata": {
    "collapsed": false,
    "ExecuteTime": {
     "end_time": "2024-02-17T13:59:16.773519200Z",
     "start_time": "2024-02-17T13:59:16.379615900Z"
    }
   },
   "id": "46ab0ac2f15aa8bb"
  },
  {
   "cell_type": "code",
   "execution_count": 52,
   "outputs": [],
   "source": [
    "location_df = location_df.drop(['length_y', 'shape_y'], axis=1)\n",
    "location_df = location_df.rename({'length_x' : 'length', 'shape_x':'shape'}, axis=1)"
   ],
   "metadata": {
    "collapsed": false,
    "ExecuteTime": {
     "end_time": "2024-02-17T13:59:16.946147700Z",
     "start_time": "2024-02-17T13:59:16.773519200Z"
    }
   },
   "id": "f9aca6e77800714d"
  },
  {
   "cell_type": "code",
   "execution_count": 53,
   "outputs": [],
   "source": [
    "traffic_df = pd.merge(location_df, flow_df, right_index=True, left_index=True)\n",
    "traffic_df['datetime'] = datetime_list\n",
    "ind_list = list(traffic_df[traffic_df['description'].isnull()].index)\n",
    "traffic_df = traffic_df.drop(ind_list)"
   ],
   "metadata": {
    "collapsed": false,
    "ExecuteTime": {
     "end_time": "2024-02-17T13:59:17.675653700Z",
     "start_time": "2024-02-17T13:59:16.961745400Z"
    }
   },
   "id": "4315d43dc5b93ce1"
  },
  {
   "cell_type": "code",
   "execution_count": 54,
   "outputs": [
    {
     "data": {
      "text/plain": "                     description  length  \\\n0  Uscita 5 - Palazzolo Milanese   403.0   \n1             SP13-Viale Sicilia    46.0   \n2                        Muggio'  2350.0   \n3         Piazzale Giulio Cesare   394.0   \n4                  SP103-Segrate  2656.0   \n\n                                               shape          start point  \\\n0  {'links': [{'points': [{'lat': 45.57636, 'lng'...  (45.57636, 9.17601)   \n1  {'links': [{'points': [{'lat': 45.5809, 'lng':...    (45.5809, 9.3098)   \n2  {'links': [{'points': [{'lat': 45.592, 'lng': ...    (45.592, 9.19793)   \n3  {'links': [{'points': [{'lat': 45.47055, 'lng'...  (45.47055, 9.15555)   \n4  {'links': [{'points': [{'lat': 45.47797, 'lng'...  (45.47797, 9.30407)   \n\n             end point  station      speed  speedUncapped   freeFlow  \\\n0   (45.57998, 9.1755)    98497  89.000003      89.000003  82.999998   \n1  (45.58124, 9.30994)   107293  41.000000      41.000000  38.000002   \n2   (45.59047, 9.2268)   107293  43.999999      43.999999  38.000002   \n3  (45.47352, 9.15519)    69364  19.000001      19.000001  28.000001   \n4   (45.4978, 9.30095)   156526  43.000002      43.000002  41.000000   \n\n   jamFactor  confidence traversability             datetime  \n0        0.0        0.99           open  04-02-2024 24:00:00  \n1        0.0        0.99           open  04-02-2024 24:00:00  \n2        0.0        0.85           open  04-02-2024 24:00:00  \n3        1.9        0.98           open  04-02-2024 24:00:00  \n4        0.0        0.86           open  04-02-2024 24:00:00  ",
      "text/html": "<div>\n<style scoped>\n    .dataframe tbody tr th:only-of-type {\n        vertical-align: middle;\n    }\n\n    .dataframe tbody tr th {\n        vertical-align: top;\n    }\n\n    .dataframe thead th {\n        text-align: right;\n    }\n</style>\n<table border=\"1\" class=\"dataframe\">\n  <thead>\n    <tr style=\"text-align: right;\">\n      <th></th>\n      <th>description</th>\n      <th>length</th>\n      <th>shape</th>\n      <th>start point</th>\n      <th>end point</th>\n      <th>station</th>\n      <th>speed</th>\n      <th>speedUncapped</th>\n      <th>freeFlow</th>\n      <th>jamFactor</th>\n      <th>confidence</th>\n      <th>traversability</th>\n      <th>datetime</th>\n    </tr>\n  </thead>\n  <tbody>\n    <tr>\n      <th>0</th>\n      <td>Uscita 5 - Palazzolo Milanese</td>\n      <td>403.0</td>\n      <td>{'links': [{'points': [{'lat': 45.57636, 'lng'...</td>\n      <td>(45.57636, 9.17601)</td>\n      <td>(45.57998, 9.1755)</td>\n      <td>98497</td>\n      <td>89.000003</td>\n      <td>89.000003</td>\n      <td>82.999998</td>\n      <td>0.0</td>\n      <td>0.99</td>\n      <td>open</td>\n      <td>04-02-2024 24:00:00</td>\n    </tr>\n    <tr>\n      <th>1</th>\n      <td>SP13-Viale Sicilia</td>\n      <td>46.0</td>\n      <td>{'links': [{'points': [{'lat': 45.5809, 'lng':...</td>\n      <td>(45.5809, 9.3098)</td>\n      <td>(45.58124, 9.30994)</td>\n      <td>107293</td>\n      <td>41.000000</td>\n      <td>41.000000</td>\n      <td>38.000002</td>\n      <td>0.0</td>\n      <td>0.99</td>\n      <td>open</td>\n      <td>04-02-2024 24:00:00</td>\n    </tr>\n    <tr>\n      <th>2</th>\n      <td>Muggio'</td>\n      <td>2350.0</td>\n      <td>{'links': [{'points': [{'lat': 45.592, 'lng': ...</td>\n      <td>(45.592, 9.19793)</td>\n      <td>(45.59047, 9.2268)</td>\n      <td>107293</td>\n      <td>43.999999</td>\n      <td>43.999999</td>\n      <td>38.000002</td>\n      <td>0.0</td>\n      <td>0.85</td>\n      <td>open</td>\n      <td>04-02-2024 24:00:00</td>\n    </tr>\n    <tr>\n      <th>3</th>\n      <td>Piazzale Giulio Cesare</td>\n      <td>394.0</td>\n      <td>{'links': [{'points': [{'lat': 45.47055, 'lng'...</td>\n      <td>(45.47055, 9.15555)</td>\n      <td>(45.47352, 9.15519)</td>\n      <td>69364</td>\n      <td>19.000001</td>\n      <td>19.000001</td>\n      <td>28.000001</td>\n      <td>1.9</td>\n      <td>0.98</td>\n      <td>open</td>\n      <td>04-02-2024 24:00:00</td>\n    </tr>\n    <tr>\n      <th>4</th>\n      <td>SP103-Segrate</td>\n      <td>2656.0</td>\n      <td>{'links': [{'points': [{'lat': 45.47797, 'lng'...</td>\n      <td>(45.47797, 9.30407)</td>\n      <td>(45.4978, 9.30095)</td>\n      <td>156526</td>\n      <td>43.000002</td>\n      <td>43.000002</td>\n      <td>41.000000</td>\n      <td>0.0</td>\n      <td>0.86</td>\n      <td>open</td>\n      <td>04-02-2024 24:00:00</td>\n    </tr>\n  </tbody>\n</table>\n</div>"
     },
     "execution_count": 54,
     "metadata": {},
     "output_type": "execute_result"
    }
   ],
   "source": [
    "traffic_df.head()"
   ],
   "metadata": {
    "collapsed": false,
    "ExecuteTime": {
     "end_time": "2024-02-17T13:59:17.746036100Z",
     "start_time": "2024-02-17T13:59:17.682674900Z"
    }
   },
   "id": "e5ea703bad235176"
  },
  {
   "cell_type": "code",
   "execution_count": 55,
   "outputs": [
    {
     "data": {
      "text/plain": "                        _id      us_aqi  us_aqi_pm2_5  us_aqi_pm10  \\\n0  65ce00ebadcb82fd86d422c6  159.921051    159.921051    63.514584   \n1  65ce00ebadcb82fd86d422c7  159.771912    159.771912    63.443748   \n2  65ce00ebadcb82fd86d422c8  159.633774    159.633774    63.289581   \n3  65ce00ebadcb82fd86d422c9  159.449570    159.449570    63.072922   \n4  65ce00ebadcb82fd86d422ca  159.085526    159.085526    62.770832   \n\n   us_aqi_nitrogen_dioxide  us_aqi_carbon_monoxide  us_aqi_ozone  \\\n0                29.550827                2.817633      0.502474   \n1                26.004728                2.977858      0.077304   \n2                21.424351                3.034219      0.000000   \n3                17.779749                3.004831      0.038652   \n4                14.036644                2.853462      0.115955   \n\n   us_aqi_sulphur_dioxide  station             datetime  \n0                3.053435    98497  02-02-2024 23:00:00  \n1                2.290076    98497  03-02-2024 00:00:00  \n2                1.472192    98497  03-02-2024 01:00:00  \n3                1.035987    98497  03-02-2024 02:00:00  \n4                1.035987    98497  03-02-2024 03:00:00  ",
      "text/html": "<div>\n<style scoped>\n    .dataframe tbody tr th:only-of-type {\n        vertical-align: middle;\n    }\n\n    .dataframe tbody tr th {\n        vertical-align: top;\n    }\n\n    .dataframe thead th {\n        text-align: right;\n    }\n</style>\n<table border=\"1\" class=\"dataframe\">\n  <thead>\n    <tr style=\"text-align: right;\">\n      <th></th>\n      <th>_id</th>\n      <th>us_aqi</th>\n      <th>us_aqi_pm2_5</th>\n      <th>us_aqi_pm10</th>\n      <th>us_aqi_nitrogen_dioxide</th>\n      <th>us_aqi_carbon_monoxide</th>\n      <th>us_aqi_ozone</th>\n      <th>us_aqi_sulphur_dioxide</th>\n      <th>station</th>\n      <th>datetime</th>\n    </tr>\n  </thead>\n  <tbody>\n    <tr>\n      <th>0</th>\n      <td>65ce00ebadcb82fd86d422c6</td>\n      <td>159.921051</td>\n      <td>159.921051</td>\n      <td>63.514584</td>\n      <td>29.550827</td>\n      <td>2.817633</td>\n      <td>0.502474</td>\n      <td>3.053435</td>\n      <td>98497</td>\n      <td>02-02-2024 23:00:00</td>\n    </tr>\n    <tr>\n      <th>1</th>\n      <td>65ce00ebadcb82fd86d422c7</td>\n      <td>159.771912</td>\n      <td>159.771912</td>\n      <td>63.443748</td>\n      <td>26.004728</td>\n      <td>2.977858</td>\n      <td>0.077304</td>\n      <td>2.290076</td>\n      <td>98497</td>\n      <td>03-02-2024 00:00:00</td>\n    </tr>\n    <tr>\n      <th>2</th>\n      <td>65ce00ebadcb82fd86d422c8</td>\n      <td>159.633774</td>\n      <td>159.633774</td>\n      <td>63.289581</td>\n      <td>21.424351</td>\n      <td>3.034219</td>\n      <td>0.000000</td>\n      <td>1.472192</td>\n      <td>98497</td>\n      <td>03-02-2024 01:00:00</td>\n    </tr>\n    <tr>\n      <th>3</th>\n      <td>65ce00ebadcb82fd86d422c9</td>\n      <td>159.449570</td>\n      <td>159.449570</td>\n      <td>63.072922</td>\n      <td>17.779749</td>\n      <td>3.004831</td>\n      <td>0.038652</td>\n      <td>1.035987</td>\n      <td>98497</td>\n      <td>03-02-2024 02:00:00</td>\n    </tr>\n    <tr>\n      <th>4</th>\n      <td>65ce00ebadcb82fd86d422ca</td>\n      <td>159.085526</td>\n      <td>159.085526</td>\n      <td>62.770832</td>\n      <td>14.036644</td>\n      <td>2.853462</td>\n      <td>0.115955</td>\n      <td>1.035987</td>\n      <td>98497</td>\n      <td>03-02-2024 03:00:00</td>\n    </tr>\n  </tbody>\n</table>\n</div>"
     },
     "execution_count": 55,
     "metadata": {},
     "output_type": "execute_result"
    }
   ],
   "source": [
    "df_aqi_API = pd.DataFrame.from_records(document_list_aqiAPI)\n",
    "df_aqi_API.head()"
   ],
   "metadata": {
    "collapsed": false,
    "ExecuteTime": {
     "end_time": "2024-02-17T13:59:17.792927900Z",
     "start_time": "2024-02-17T13:59:17.746036100Z"
    }
   },
   "id": "92cd6546a0dfcc61"
  },
  {
   "cell_type": "code",
   "execution_count": 56,
   "outputs": [],
   "source": [
    "df_aqi = df_aqi.drop('_id', axis=1)\n",
    "df_aqi_API = df_aqi_API.drop('_id', axis=1)"
   ],
   "metadata": {
    "collapsed": false,
    "ExecuteTime": {
     "end_time": "2024-02-17T13:59:17.902874500Z",
     "start_time": "2024-02-17T13:59:17.777338400Z"
    }
   },
   "id": "8831d5938b165975"
  },
  {
   "cell_type": "code",
   "execution_count": 57,
   "outputs": [
    {
     "data": {
      "text/plain": "       us_aqi  us_aqi_pm2_5  us_aqi_pm10  us_aqi_nitrogen_dioxide  \\\n0  127.697906    127.697906    46.909096                19.700552   \n1  123.520828    123.520828    45.632576                19.651300   \n2  120.677101    120.677101    44.579548                15.120174   \n3  119.552086    119.552086    44.181820                14.972419   \n4  119.989601    119.989601    44.363640                15.957448   \n\n   us_aqi_carbon_monoxide  us_aqi_ozone  us_aqi_sulphur_dioxide  station  \\\n0                1.478663      1.700680                1.417666    98497   \n1                1.545089      1.178881                1.526718    98497   \n2                1.583736      1.024273                1.308615    98497   \n3                1.580515      0.888992                1.199564    98497   \n4                1.563205      0.908318                1.254089    98497   \n\n              datetime  station id                 time aqi aqi_level pm 2.5  \\\n0  04-02-2024 00:00:00       98497  04-02-2024 00:00:00  51  Moderate     51   \n1  04-02-2024 01:00:00       98497  04-02-2024 01:00:00  51  Moderate     51   \n2  04-02-2024 02:00:00       98497  04-02-2024 02:00:00  50  Moderate     50   \n3  04-02-2024 03:00:00       98497  04-02-2024 03:00:00  52  Moderate     52   \n4  04-02-2024 04:00:00       98497  04-02-2024 04:00:00  54  Moderate     54   \n\n  pm 10                 location  \n0    19  (45.5452297, 9.2336167)  \n1    17  (45.5452297, 9.2336167)  \n2    19  (45.5452297, 9.2336167)  \n3    17  (45.5452297, 9.2336167)  \n4    20  (45.5452297, 9.2336167)  ",
      "text/html": "<div>\n<style scoped>\n    .dataframe tbody tr th:only-of-type {\n        vertical-align: middle;\n    }\n\n    .dataframe tbody tr th {\n        vertical-align: top;\n    }\n\n    .dataframe thead th {\n        text-align: right;\n    }\n</style>\n<table border=\"1\" class=\"dataframe\">\n  <thead>\n    <tr style=\"text-align: right;\">\n      <th></th>\n      <th>us_aqi</th>\n      <th>us_aqi_pm2_5</th>\n      <th>us_aqi_pm10</th>\n      <th>us_aqi_nitrogen_dioxide</th>\n      <th>us_aqi_carbon_monoxide</th>\n      <th>us_aqi_ozone</th>\n      <th>us_aqi_sulphur_dioxide</th>\n      <th>station</th>\n      <th>datetime</th>\n      <th>station id</th>\n      <th>time</th>\n      <th>aqi</th>\n      <th>aqi_level</th>\n      <th>pm 2.5</th>\n      <th>pm 10</th>\n      <th>location</th>\n    </tr>\n  </thead>\n  <tbody>\n    <tr>\n      <th>0</th>\n      <td>127.697906</td>\n      <td>127.697906</td>\n      <td>46.909096</td>\n      <td>19.700552</td>\n      <td>1.478663</td>\n      <td>1.700680</td>\n      <td>1.417666</td>\n      <td>98497</td>\n      <td>04-02-2024 00:00:00</td>\n      <td>98497</td>\n      <td>04-02-2024 00:00:00</td>\n      <td>51</td>\n      <td>Moderate</td>\n      <td>51</td>\n      <td>19</td>\n      <td>(45.5452297, 9.2336167)</td>\n    </tr>\n    <tr>\n      <th>1</th>\n      <td>123.520828</td>\n      <td>123.520828</td>\n      <td>45.632576</td>\n      <td>19.651300</td>\n      <td>1.545089</td>\n      <td>1.178881</td>\n      <td>1.526718</td>\n      <td>98497</td>\n      <td>04-02-2024 01:00:00</td>\n      <td>98497</td>\n      <td>04-02-2024 01:00:00</td>\n      <td>51</td>\n      <td>Moderate</td>\n      <td>51</td>\n      <td>17</td>\n      <td>(45.5452297, 9.2336167)</td>\n    </tr>\n    <tr>\n      <th>2</th>\n      <td>120.677101</td>\n      <td>120.677101</td>\n      <td>44.579548</td>\n      <td>15.120174</td>\n      <td>1.583736</td>\n      <td>1.024273</td>\n      <td>1.308615</td>\n      <td>98497</td>\n      <td>04-02-2024 02:00:00</td>\n      <td>98497</td>\n      <td>04-02-2024 02:00:00</td>\n      <td>50</td>\n      <td>Moderate</td>\n      <td>50</td>\n      <td>19</td>\n      <td>(45.5452297, 9.2336167)</td>\n    </tr>\n    <tr>\n      <th>3</th>\n      <td>119.552086</td>\n      <td>119.552086</td>\n      <td>44.181820</td>\n      <td>14.972419</td>\n      <td>1.580515</td>\n      <td>0.888992</td>\n      <td>1.199564</td>\n      <td>98497</td>\n      <td>04-02-2024 03:00:00</td>\n      <td>98497</td>\n      <td>04-02-2024 03:00:00</td>\n      <td>52</td>\n      <td>Moderate</td>\n      <td>52</td>\n      <td>17</td>\n      <td>(45.5452297, 9.2336167)</td>\n    </tr>\n    <tr>\n      <th>4</th>\n      <td>119.989601</td>\n      <td>119.989601</td>\n      <td>44.363640</td>\n      <td>15.957448</td>\n      <td>1.563205</td>\n      <td>0.908318</td>\n      <td>1.254089</td>\n      <td>98497</td>\n      <td>04-02-2024 04:00:00</td>\n      <td>98497</td>\n      <td>04-02-2024 04:00:00</td>\n      <td>54</td>\n      <td>Moderate</td>\n      <td>54</td>\n      <td>20</td>\n      <td>(45.5452297, 9.2336167)</td>\n    </tr>\n  </tbody>\n</table>\n</div>"
     },
     "execution_count": 57,
     "metadata": {},
     "output_type": "execute_result"
    }
   ],
   "source": [
    "df_aqi = pd.merge(df_aqi_API, df_aqi, left_on=['station', 'datetime'], right_on=['station id', 'time'])\n",
    "df_aqi.head()"
   ],
   "metadata": {
    "collapsed": false,
    "ExecuteTime": {
     "end_time": "2024-02-17T13:59:18.012245100Z",
     "start_time": "2024-02-17T13:59:17.808548200Z"
    }
   },
   "id": "c2c533229ff788c4"
  },
  {
   "cell_type": "code",
   "execution_count": 58,
   "outputs": [],
   "source": [
    "df_environment = pd.merge(df_weather, df_aqi, left_on=['station', 'datetime'], right_on=['station id', 'datetime'])\n"
   ],
   "metadata": {
    "collapsed": false,
    "ExecuteTime": {
     "end_time": "2024-02-17T13:59:18.012245100Z",
     "start_time": "2024-02-17T13:59:17.855837900Z"
    }
   },
   "id": "553516c8840d3393"
  },
  {
   "cell_type": "code",
   "execution_count": 59,
   "outputs": [
    {
     "data": {
      "text/plain": "   temp  rhum  prcp  wspd    pres             datetime      us_aqi  \\\n0   9.0  81.0   0.0   4.0  1024.1  04-02-2024 00:00:00  127.697906   \n1   8.5  84.0   0.0   8.0  1023.7  04-02-2024 01:00:00  123.520828   \n2   6.3  88.0   0.0   4.0  1023.8  04-02-2024 02:00:00  120.677101   \n3   6.1  95.0   0.0   5.0  1023.9  04-02-2024 03:00:00  119.552086   \n4   4.0  96.0   0.0   2.0  1023.3  04-02-2024 04:00:00  119.989601   \n\n   us_aqi_pm2_5  us_aqi_pm10  us_aqi_nitrogen_dioxide  us_aqi_carbon_monoxide  \\\n0    127.697906    46.909096                19.700552                1.478663   \n1    123.520828    45.632576                19.651300                1.545089   \n2    120.677101    44.579548                15.120174                1.583736   \n3    119.552086    44.181820                14.972419                1.580515   \n4    119.989601    44.363640                15.957448                1.563205   \n\n   us_aqi_ozone  us_aqi_sulphur_dioxide  station id aqi aqi_level pm 2.5  \\\n0      1.700680                1.417666       98497  51  Moderate     51   \n1      1.178881                1.526718       98497  51  Moderate     51   \n2      1.024273                1.308615       98497  50  Moderate     50   \n3      0.888992                1.199564       98497  52  Moderate     52   \n4      0.908318                1.254089       98497  54  Moderate     54   \n\n  pm 10                 location  \n0    19  (45.5452297, 9.2336167)  \n1    17  (45.5452297, 9.2336167)  \n2    19  (45.5452297, 9.2336167)  \n3    17  (45.5452297, 9.2336167)  \n4    20  (45.5452297, 9.2336167)  ",
      "text/html": "<div>\n<style scoped>\n    .dataframe tbody tr th:only-of-type {\n        vertical-align: middle;\n    }\n\n    .dataframe tbody tr th {\n        vertical-align: top;\n    }\n\n    .dataframe thead th {\n        text-align: right;\n    }\n</style>\n<table border=\"1\" class=\"dataframe\">\n  <thead>\n    <tr style=\"text-align: right;\">\n      <th></th>\n      <th>temp</th>\n      <th>rhum</th>\n      <th>prcp</th>\n      <th>wspd</th>\n      <th>pres</th>\n      <th>datetime</th>\n      <th>us_aqi</th>\n      <th>us_aqi_pm2_5</th>\n      <th>us_aqi_pm10</th>\n      <th>us_aqi_nitrogen_dioxide</th>\n      <th>us_aqi_carbon_monoxide</th>\n      <th>us_aqi_ozone</th>\n      <th>us_aqi_sulphur_dioxide</th>\n      <th>station id</th>\n      <th>aqi</th>\n      <th>aqi_level</th>\n      <th>pm 2.5</th>\n      <th>pm 10</th>\n      <th>location</th>\n    </tr>\n  </thead>\n  <tbody>\n    <tr>\n      <th>0</th>\n      <td>9.0</td>\n      <td>81.0</td>\n      <td>0.0</td>\n      <td>4.0</td>\n      <td>1024.1</td>\n      <td>04-02-2024 00:00:00</td>\n      <td>127.697906</td>\n      <td>127.697906</td>\n      <td>46.909096</td>\n      <td>19.700552</td>\n      <td>1.478663</td>\n      <td>1.700680</td>\n      <td>1.417666</td>\n      <td>98497</td>\n      <td>51</td>\n      <td>Moderate</td>\n      <td>51</td>\n      <td>19</td>\n      <td>(45.5452297, 9.2336167)</td>\n    </tr>\n    <tr>\n      <th>1</th>\n      <td>8.5</td>\n      <td>84.0</td>\n      <td>0.0</td>\n      <td>8.0</td>\n      <td>1023.7</td>\n      <td>04-02-2024 01:00:00</td>\n      <td>123.520828</td>\n      <td>123.520828</td>\n      <td>45.632576</td>\n      <td>19.651300</td>\n      <td>1.545089</td>\n      <td>1.178881</td>\n      <td>1.526718</td>\n      <td>98497</td>\n      <td>51</td>\n      <td>Moderate</td>\n      <td>51</td>\n      <td>17</td>\n      <td>(45.5452297, 9.2336167)</td>\n    </tr>\n    <tr>\n      <th>2</th>\n      <td>6.3</td>\n      <td>88.0</td>\n      <td>0.0</td>\n      <td>4.0</td>\n      <td>1023.8</td>\n      <td>04-02-2024 02:00:00</td>\n      <td>120.677101</td>\n      <td>120.677101</td>\n      <td>44.579548</td>\n      <td>15.120174</td>\n      <td>1.583736</td>\n      <td>1.024273</td>\n      <td>1.308615</td>\n      <td>98497</td>\n      <td>50</td>\n      <td>Moderate</td>\n      <td>50</td>\n      <td>19</td>\n      <td>(45.5452297, 9.2336167)</td>\n    </tr>\n    <tr>\n      <th>3</th>\n      <td>6.1</td>\n      <td>95.0</td>\n      <td>0.0</td>\n      <td>5.0</td>\n      <td>1023.9</td>\n      <td>04-02-2024 03:00:00</td>\n      <td>119.552086</td>\n      <td>119.552086</td>\n      <td>44.181820</td>\n      <td>14.972419</td>\n      <td>1.580515</td>\n      <td>0.888992</td>\n      <td>1.199564</td>\n      <td>98497</td>\n      <td>52</td>\n      <td>Moderate</td>\n      <td>52</td>\n      <td>17</td>\n      <td>(45.5452297, 9.2336167)</td>\n    </tr>\n    <tr>\n      <th>4</th>\n      <td>4.0</td>\n      <td>96.0</td>\n      <td>0.0</td>\n      <td>2.0</td>\n      <td>1023.3</td>\n      <td>04-02-2024 04:00:00</td>\n      <td>119.989601</td>\n      <td>119.989601</td>\n      <td>44.363640</td>\n      <td>15.957448</td>\n      <td>1.563205</td>\n      <td>0.908318</td>\n      <td>1.254089</td>\n      <td>98497</td>\n      <td>54</td>\n      <td>Moderate</td>\n      <td>54</td>\n      <td>20</td>\n      <td>(45.5452297, 9.2336167)</td>\n    </tr>\n  </tbody>\n</table>\n</div>"
     },
     "execution_count": 59,
     "metadata": {},
     "output_type": "execute_result"
    }
   ],
   "source": [
    "df_environment = df_environment.drop(['_id', 'dwpt', 'wdir', 'wpgt', 'coco', 'time', 'station_y', 'station_x'], axis=1)\n",
    "df_environment.head()"
   ],
   "metadata": {
    "collapsed": false,
    "ExecuteTime": {
     "end_time": "2024-02-17T13:59:18.027870200Z",
     "start_time": "2024-02-17T13:59:17.887253200Z"
    }
   },
   "id": "e5b8340da011c6ad"
  },
  {
   "cell_type": "code",
   "execution_count": 60,
   "outputs": [],
   "source": [
    "for index, row in df_environment.iterrows():\n",
    "    if row['aqi'] == 'no data':\n",
    "        row['aqi'] = row['us_aqi']\n",
    "        if int(row['aqi']) < 100:\n",
    "            row['aqi_level'] = 'Moderate'\n",
    "        elif int(row['aqi']) < 150:\n",
    "            row['aqi_level'] = 'Unhealthy for Sensitive Groups'\n",
    "        elif int(row['aqi']) < 200:\n",
    "            row['aqi_level'] = 'Unhealthy'\n",
    "        elif int(row['aqi']) < 300:\n",
    "            row['aqi_level'] = 'Very Unhealthy'\n",
    "        else:\n",
    "            row['aqi_level'] = 'Hazardous'\n",
    "    if row['pm 2.5'] == '-':\n",
    "        row['pm 2.5'] = row['us_aqi_pm2_5']\n",
    "    if row['pm 10'] == '-':\n",
    "        row['pm 10'] = row['us_aqi_pm10']\n",
    "    \n",
    "    df_environment.loc[index] = row"
   ],
   "metadata": {
    "collapsed": false,
    "ExecuteTime": {
     "end_time": "2024-02-17T13:59:21.060515200Z",
     "start_time": "2024-02-17T13:59:17.918498Z"
    }
   },
   "id": "8c3f26e85b92bc9c"
  },
  {
   "cell_type": "code",
   "execution_count": 61,
   "outputs": [],
   "source": [
    "for index, row in df_environment.iterrows():\n",
    "     if row['pm 2.5'] != '-' and row['pm 10'] != '-':\n",
    "        pollutant_list = [int(row['pm 2.5']), int(row['pm 10'])]\n",
    "        \n",
    "        if int(row['aqi']) != max(pollutant_list):\n",
    "            row['aqi'] = row['us_aqi']\n",
    "            if int(row['aqi']) < 100:\n",
    "                row['aqi_level'] = 'Moderate'\n",
    "            elif int(row['aqi']) < 150:\n",
    "                row['aqi_level'] = 'Unhealthy for Sensitive Groups'\n",
    "            elif int(row['aqi']) < 200:\n",
    "                row['aqi_level'] = 'Unhealthy'\n",
    "            elif int(row['aqi']) < 300:\n",
    "                row['aqi_level'] = 'Very Unhealthy'\n",
    "            else:\n",
    "                row['aqi_level'] = 'Hazardous'\n",
    "            \n",
    "            row['pm 2.5'] = row['us_aqi_pm2_5']\n",
    "            row['pm 10'] = row['us_aqi_pm10']\n",
    "            df_environment.loc[index] = row"
   ],
   "metadata": {
    "collapsed": false,
    "ExecuteTime": {
     "end_time": "2024-02-17T13:59:21.273191Z",
     "start_time": "2024-02-17T13:59:21.060515200Z"
    }
   },
   "id": "650850150e4e4870"
  },
  {
   "cell_type": "code",
   "execution_count": 62,
   "outputs": [],
   "source": [
    "df_environment = df_environment.drop(['us_aqi', 'us_aqi_pm2_5', 'us_aqi_pm10'], axis=1)\n",
    "df_environment = df_environment.rename({'us_aqi_carbon_monoxide': 'CO', 'us_aqi_nitrogen_dioxide': 'NO2',\n",
    "                                        'us_aqi_ozone': 'O3', 'us_aqi_sulphur_dioxide': 'SO2', \n",
    "                                        'location': 'station location'}, axis=1)"
   ],
   "metadata": {
    "collapsed": false,
    "ExecuteTime": {
     "end_time": "2024-02-17T13:59:21.301410900Z",
     "start_time": "2024-02-17T13:59:21.273191Z"
    }
   },
   "id": "bbd2659f1ec41377"
  },
  {
   "cell_type": "code",
   "execution_count": 63,
   "outputs": [
    {
     "data": {
      "text/plain": "      temp   rhum  prcp  wspd    pres             datetime        NO2  \\\n0      9.0   81.0   0.0   4.0  1024.1  04-02-2024 00:00:00  19.700552   \n1      8.5   84.0   0.0   8.0  1023.7  04-02-2024 01:00:00  19.651300   \n2      6.3   88.0   0.0   4.0  1023.8  04-02-2024 02:00:00  15.120174   \n3      6.1   95.0   0.0   5.0  1023.9  04-02-2024 03:00:00  14.972419   \n4      4.0   96.0   0.0   2.0  1023.3  04-02-2024 04:00:00  15.957448   \n...    ...    ...   ...   ...     ...                  ...        ...   \n3242   8.9   95.0   0.0   2.0   997.4  11-02-2024 19:00:00  12.509850   \n3243   8.6   97.0   0.0   0.0   997.9  11-02-2024 20:00:00  13.544128   \n3244   7.4   99.0   0.0   2.0   998.6  11-02-2024 21:00:00  15.070923   \n3245   7.8  100.0   0.0   2.0   999.1  11-02-2024 22:00:00  14.479905   \n3246   6.8  100.0   0.0   2.0   999.5  11-02-2024 23:00:00  17.188732   \n\n            CO        O3       SO2  station id aqi aqi_level pm 2.5 pm 10  \\\n0     1.478663  1.700680  1.417666       98497  51  Moderate     51    19   \n1     1.545089  1.178881  1.526718       98497  51  Moderate     51    17   \n2     1.583736  1.024273  1.308615       98497  50  Moderate     50    19   \n3     1.580515  0.888992  1.199564       98497  52  Moderate     52    17   \n4     1.563205  0.908318  1.254089       98497  54  Moderate     54    20   \n...        ...       ...       ...         ...  ..       ...    ...   ...   \n3242  0.694042  7.285869  1.254089      193501  12      Good     12     6   \n3243  0.750805  6.976655  1.090513      193501  32      Good     32    11   \n3244  0.838567  6.338900  1.308615      193501  35      Good     35    12   \n3245  0.952899  5.507885  1.635769      193501  37      Good     37    14   \n3246  1.077697  4.560915  1.581243      193501  41      Good     41    13   \n\n             station location  \n0     (45.5452297, 9.2336167)  \n1     (45.5452297, 9.2336167)  \n2     (45.5452297, 9.2336167)  \n3     (45.5452297, 9.2336167)  \n4     (45.5452297, 9.2336167)  \n...                       ...  \n3242  (45.4452809, 9.0937168)  \n3243  (45.4452809, 9.0937168)  \n3244  (45.4452809, 9.0937168)  \n3245  (45.4452809, 9.0937168)  \n3246  (45.4452809, 9.0937168)  \n\n[3247 rows x 16 columns]",
      "text/html": "<div>\n<style scoped>\n    .dataframe tbody tr th:only-of-type {\n        vertical-align: middle;\n    }\n\n    .dataframe tbody tr th {\n        vertical-align: top;\n    }\n\n    .dataframe thead th {\n        text-align: right;\n    }\n</style>\n<table border=\"1\" class=\"dataframe\">\n  <thead>\n    <tr style=\"text-align: right;\">\n      <th></th>\n      <th>temp</th>\n      <th>rhum</th>\n      <th>prcp</th>\n      <th>wspd</th>\n      <th>pres</th>\n      <th>datetime</th>\n      <th>NO2</th>\n      <th>CO</th>\n      <th>O3</th>\n      <th>SO2</th>\n      <th>station id</th>\n      <th>aqi</th>\n      <th>aqi_level</th>\n      <th>pm 2.5</th>\n      <th>pm 10</th>\n      <th>station location</th>\n    </tr>\n  </thead>\n  <tbody>\n    <tr>\n      <th>0</th>\n      <td>9.0</td>\n      <td>81.0</td>\n      <td>0.0</td>\n      <td>4.0</td>\n      <td>1024.1</td>\n      <td>04-02-2024 00:00:00</td>\n      <td>19.700552</td>\n      <td>1.478663</td>\n      <td>1.700680</td>\n      <td>1.417666</td>\n      <td>98497</td>\n      <td>51</td>\n      <td>Moderate</td>\n      <td>51</td>\n      <td>19</td>\n      <td>(45.5452297, 9.2336167)</td>\n    </tr>\n    <tr>\n      <th>1</th>\n      <td>8.5</td>\n      <td>84.0</td>\n      <td>0.0</td>\n      <td>8.0</td>\n      <td>1023.7</td>\n      <td>04-02-2024 01:00:00</td>\n      <td>19.651300</td>\n      <td>1.545089</td>\n      <td>1.178881</td>\n      <td>1.526718</td>\n      <td>98497</td>\n      <td>51</td>\n      <td>Moderate</td>\n      <td>51</td>\n      <td>17</td>\n      <td>(45.5452297, 9.2336167)</td>\n    </tr>\n    <tr>\n      <th>2</th>\n      <td>6.3</td>\n      <td>88.0</td>\n      <td>0.0</td>\n      <td>4.0</td>\n      <td>1023.8</td>\n      <td>04-02-2024 02:00:00</td>\n      <td>15.120174</td>\n      <td>1.583736</td>\n      <td>1.024273</td>\n      <td>1.308615</td>\n      <td>98497</td>\n      <td>50</td>\n      <td>Moderate</td>\n      <td>50</td>\n      <td>19</td>\n      <td>(45.5452297, 9.2336167)</td>\n    </tr>\n    <tr>\n      <th>3</th>\n      <td>6.1</td>\n      <td>95.0</td>\n      <td>0.0</td>\n      <td>5.0</td>\n      <td>1023.9</td>\n      <td>04-02-2024 03:00:00</td>\n      <td>14.972419</td>\n      <td>1.580515</td>\n      <td>0.888992</td>\n      <td>1.199564</td>\n      <td>98497</td>\n      <td>52</td>\n      <td>Moderate</td>\n      <td>52</td>\n      <td>17</td>\n      <td>(45.5452297, 9.2336167)</td>\n    </tr>\n    <tr>\n      <th>4</th>\n      <td>4.0</td>\n      <td>96.0</td>\n      <td>0.0</td>\n      <td>2.0</td>\n      <td>1023.3</td>\n      <td>04-02-2024 04:00:00</td>\n      <td>15.957448</td>\n      <td>1.563205</td>\n      <td>0.908318</td>\n      <td>1.254089</td>\n      <td>98497</td>\n      <td>54</td>\n      <td>Moderate</td>\n      <td>54</td>\n      <td>20</td>\n      <td>(45.5452297, 9.2336167)</td>\n    </tr>\n    <tr>\n      <th>...</th>\n      <td>...</td>\n      <td>...</td>\n      <td>...</td>\n      <td>...</td>\n      <td>...</td>\n      <td>...</td>\n      <td>...</td>\n      <td>...</td>\n      <td>...</td>\n      <td>...</td>\n      <td>...</td>\n      <td>...</td>\n      <td>...</td>\n      <td>...</td>\n      <td>...</td>\n      <td>...</td>\n    </tr>\n    <tr>\n      <th>3242</th>\n      <td>8.9</td>\n      <td>95.0</td>\n      <td>0.0</td>\n      <td>2.0</td>\n      <td>997.4</td>\n      <td>11-02-2024 19:00:00</td>\n      <td>12.509850</td>\n      <td>0.694042</td>\n      <td>7.285869</td>\n      <td>1.254089</td>\n      <td>193501</td>\n      <td>12</td>\n      <td>Good</td>\n      <td>12</td>\n      <td>6</td>\n      <td>(45.4452809, 9.0937168)</td>\n    </tr>\n    <tr>\n      <th>3243</th>\n      <td>8.6</td>\n      <td>97.0</td>\n      <td>0.0</td>\n      <td>0.0</td>\n      <td>997.9</td>\n      <td>11-02-2024 20:00:00</td>\n      <td>13.544128</td>\n      <td>0.750805</td>\n      <td>6.976655</td>\n      <td>1.090513</td>\n      <td>193501</td>\n      <td>32</td>\n      <td>Good</td>\n      <td>32</td>\n      <td>11</td>\n      <td>(45.4452809, 9.0937168)</td>\n    </tr>\n    <tr>\n      <th>3244</th>\n      <td>7.4</td>\n      <td>99.0</td>\n      <td>0.0</td>\n      <td>2.0</td>\n      <td>998.6</td>\n      <td>11-02-2024 21:00:00</td>\n      <td>15.070923</td>\n      <td>0.838567</td>\n      <td>6.338900</td>\n      <td>1.308615</td>\n      <td>193501</td>\n      <td>35</td>\n      <td>Good</td>\n      <td>35</td>\n      <td>12</td>\n      <td>(45.4452809, 9.0937168)</td>\n    </tr>\n    <tr>\n      <th>3245</th>\n      <td>7.8</td>\n      <td>100.0</td>\n      <td>0.0</td>\n      <td>2.0</td>\n      <td>999.1</td>\n      <td>11-02-2024 22:00:00</td>\n      <td>14.479905</td>\n      <td>0.952899</td>\n      <td>5.507885</td>\n      <td>1.635769</td>\n      <td>193501</td>\n      <td>37</td>\n      <td>Good</td>\n      <td>37</td>\n      <td>14</td>\n      <td>(45.4452809, 9.0937168)</td>\n    </tr>\n    <tr>\n      <th>3246</th>\n      <td>6.8</td>\n      <td>100.0</td>\n      <td>0.0</td>\n      <td>2.0</td>\n      <td>999.5</td>\n      <td>11-02-2024 23:00:00</td>\n      <td>17.188732</td>\n      <td>1.077697</td>\n      <td>4.560915</td>\n      <td>1.581243</td>\n      <td>193501</td>\n      <td>41</td>\n      <td>Good</td>\n      <td>41</td>\n      <td>13</td>\n      <td>(45.4452809, 9.0937168)</td>\n    </tr>\n  </tbody>\n</table>\n<p>3247 rows × 16 columns</p>\n</div>"
     },
     "execution_count": 63,
     "metadata": {},
     "output_type": "execute_result"
    }
   ],
   "source": [
    "df_environment"
   ],
   "metadata": {
    "collapsed": false,
    "ExecuteTime": {
     "end_time": "2024-02-17T13:59:21.332553500Z",
     "start_time": "2024-02-17T13:59:21.301410900Z"
    }
   },
   "id": "340c414e0991294c"
  },
  {
   "cell_type": "code",
   "execution_count": 64,
   "outputs": [],
   "source": [
    "df = pd.merge(traffic_df, df_environment, left_on=['station', 'datetime'], right_on=['station id', 'datetime'])"
   ],
   "metadata": {
    "collapsed": false,
    "ExecuteTime": {
     "end_time": "2024-02-17T13:59:22.135142800Z",
     "start_time": "2024-02-17T13:59:21.332553500Z"
    }
   },
   "id": "e33c885c6fd41a08"
  },
  {
   "cell_type": "code",
   "execution_count": 65,
   "outputs": [
    {
     "data": {
      "text/plain": "                                         description  length  \\\n0                                        Via Eritrea  1029.0   \n1                                            Lainate  1862.0   \n2                                A4 - Torino Trieste    97.0   \n3                                       SP114-Cusago  3716.0   \n4  Via Luigi Nono incrocio Via Giulio Cesare Proc...   329.0   \n\n           start point            end point       speed  speedUncapped  \\\n0  (45.50902, 9.14808)   (45.51075, 9.1376)   40.000003      40.000003   \n1  (45.57173, 9.01591)  (45.56162, 9.03485)  108.000000     108.000000   \n2  (45.51447, 9.09862)  (45.51419, 9.09977)   64.999998      64.999998   \n3  (45.41276, 9.03626)  (45.44315, 9.02899)   72.000000      72.000000   \n4  (45.48675, 9.17499)  (45.48409, 9.17685)   34.999999      34.999999   \n\n     freeFlow  jamFactor traversability             datetime  ...        NO2  \\\n0   34.999999        0.0           open  04-02-2024 01:00:00  ...  10.983057   \n1  105.000005        0.0           open  04-02-2024 01:00:00  ...  10.983057   \n2   40.000003        0.0           open  04-02-2024 01:00:00  ...  10.983057   \n3   50.000000        0.0           open  04-02-2024 01:00:00  ...   9.653271   \n4   30.000002        0.0           open  04-02-2024 01:00:00  ...  10.983057   \n\n         CO        O3       SO2  station id  aqi  aqi_level  pm 2.5  pm 10  \\\n0  1.152174  2.744279  0.763359      460336   87   Moderate      87     28   \n1  1.152174  2.744279  0.763359      116353   25       Good      25     10   \n2  1.152174  2.744279  0.763359      116353   25       Good      25     10   \n3  1.156200  3.575294  0.817885      193501   32       Good      32     12   \n4  1.152174  2.744279  0.763359       21373   73   Moderate      73     22   \n\n                          station location  \n0  (45.496831549999996, 9.167650701677125)  \n1                  (45.4679729, 9.1235389)  \n2                  (45.4679729, 9.1235389)  \n3                  (45.4452809, 9.0937168)  \n4                  (45.4762915, 9.1721766)  \n\n[5 rows x 25 columns]",
      "text/html": "<div>\n<style scoped>\n    .dataframe tbody tr th:only-of-type {\n        vertical-align: middle;\n    }\n\n    .dataframe tbody tr th {\n        vertical-align: top;\n    }\n\n    .dataframe thead th {\n        text-align: right;\n    }\n</style>\n<table border=\"1\" class=\"dataframe\">\n  <thead>\n    <tr style=\"text-align: right;\">\n      <th></th>\n      <th>description</th>\n      <th>length</th>\n      <th>start point</th>\n      <th>end point</th>\n      <th>speed</th>\n      <th>speedUncapped</th>\n      <th>freeFlow</th>\n      <th>jamFactor</th>\n      <th>traversability</th>\n      <th>datetime</th>\n      <th>...</th>\n      <th>NO2</th>\n      <th>CO</th>\n      <th>O3</th>\n      <th>SO2</th>\n      <th>station id</th>\n      <th>aqi</th>\n      <th>aqi_level</th>\n      <th>pm 2.5</th>\n      <th>pm 10</th>\n      <th>station location</th>\n    </tr>\n  </thead>\n  <tbody>\n    <tr>\n      <th>0</th>\n      <td>Via Eritrea</td>\n      <td>1029.0</td>\n      <td>(45.50902, 9.14808)</td>\n      <td>(45.51075, 9.1376)</td>\n      <td>40.000003</td>\n      <td>40.000003</td>\n      <td>34.999999</td>\n      <td>0.0</td>\n      <td>open</td>\n      <td>04-02-2024 01:00:00</td>\n      <td>...</td>\n      <td>10.983057</td>\n      <td>1.152174</td>\n      <td>2.744279</td>\n      <td>0.763359</td>\n      <td>460336</td>\n      <td>87</td>\n      <td>Moderate</td>\n      <td>87</td>\n      <td>28</td>\n      <td>(45.496831549999996, 9.167650701677125)</td>\n    </tr>\n    <tr>\n      <th>1</th>\n      <td>Lainate</td>\n      <td>1862.0</td>\n      <td>(45.57173, 9.01591)</td>\n      <td>(45.56162, 9.03485)</td>\n      <td>108.000000</td>\n      <td>108.000000</td>\n      <td>105.000005</td>\n      <td>0.0</td>\n      <td>open</td>\n      <td>04-02-2024 01:00:00</td>\n      <td>...</td>\n      <td>10.983057</td>\n      <td>1.152174</td>\n      <td>2.744279</td>\n      <td>0.763359</td>\n      <td>116353</td>\n      <td>25</td>\n      <td>Good</td>\n      <td>25</td>\n      <td>10</td>\n      <td>(45.4679729, 9.1235389)</td>\n    </tr>\n    <tr>\n      <th>2</th>\n      <td>A4 - Torino Trieste</td>\n      <td>97.0</td>\n      <td>(45.51447, 9.09862)</td>\n      <td>(45.51419, 9.09977)</td>\n      <td>64.999998</td>\n      <td>64.999998</td>\n      <td>40.000003</td>\n      <td>0.0</td>\n      <td>open</td>\n      <td>04-02-2024 01:00:00</td>\n      <td>...</td>\n      <td>10.983057</td>\n      <td>1.152174</td>\n      <td>2.744279</td>\n      <td>0.763359</td>\n      <td>116353</td>\n      <td>25</td>\n      <td>Good</td>\n      <td>25</td>\n      <td>10</td>\n      <td>(45.4679729, 9.1235389)</td>\n    </tr>\n    <tr>\n      <th>3</th>\n      <td>SP114-Cusago</td>\n      <td>3716.0</td>\n      <td>(45.41276, 9.03626)</td>\n      <td>(45.44315, 9.02899)</td>\n      <td>72.000000</td>\n      <td>72.000000</td>\n      <td>50.000000</td>\n      <td>0.0</td>\n      <td>open</td>\n      <td>04-02-2024 01:00:00</td>\n      <td>...</td>\n      <td>9.653271</td>\n      <td>1.156200</td>\n      <td>3.575294</td>\n      <td>0.817885</td>\n      <td>193501</td>\n      <td>32</td>\n      <td>Good</td>\n      <td>32</td>\n      <td>12</td>\n      <td>(45.4452809, 9.0937168)</td>\n    </tr>\n    <tr>\n      <th>4</th>\n      <td>Via Luigi Nono incrocio Via Giulio Cesare Proc...</td>\n      <td>329.0</td>\n      <td>(45.48675, 9.17499)</td>\n      <td>(45.48409, 9.17685)</td>\n      <td>34.999999</td>\n      <td>34.999999</td>\n      <td>30.000002</td>\n      <td>0.0</td>\n      <td>open</td>\n      <td>04-02-2024 01:00:00</td>\n      <td>...</td>\n      <td>10.983057</td>\n      <td>1.152174</td>\n      <td>2.744279</td>\n      <td>0.763359</td>\n      <td>21373</td>\n      <td>73</td>\n      <td>Moderate</td>\n      <td>73</td>\n      <td>22</td>\n      <td>(45.4762915, 9.1721766)</td>\n    </tr>\n  </tbody>\n</table>\n<p>5 rows × 25 columns</p>\n</div>"
     },
     "execution_count": 65,
     "metadata": {},
     "output_type": "execute_result"
    }
   ],
   "source": [
    "df = df.drop(['shape', 'confidence', 'station'], axis=1)\n",
    "df.head()"
   ],
   "metadata": {
    "collapsed": false,
    "ExecuteTime": {
     "end_time": "2024-02-17T13:59:22.258053Z",
     "start_time": "2024-02-17T13:59:22.135142800Z"
    }
   },
   "id": "2c6f8e0c7c4fb297"
  },
  {
   "cell_type": "code",
   "execution_count": 66,
   "outputs": [],
   "source": [
    "df[['aqi', 'pm 2.5', 'pm 10']] = df[['aqi', 'pm 2.5', 'pm 10']].astype(int)"
   ],
   "metadata": {
    "collapsed": false,
    "ExecuteTime": {
     "end_time": "2024-02-17T13:59:22.383337200Z",
     "start_time": "2024-02-17T13:59:22.242419500Z"
    }
   },
   "id": "5286a899b19f251"
  },
  {
   "cell_type": "code",
   "execution_count": 67,
   "outputs": [],
   "source": [
    "df['datetime'] = pd.to_datetime(df['datetime'], format='%d-%m-%Y %H:%M:%S')"
   ],
   "metadata": {
    "collapsed": false,
    "ExecuteTime": {
     "end_time": "2024-02-17T13:59:22.461460200Z",
     "start_time": "2024-02-17T13:59:22.352092Z"
    }
   },
   "id": "afedf6239773a612"
  },
  {
   "cell_type": "code",
   "execution_count": 68,
   "outputs": [],
   "source": [
    "wd_list = []\n",
    "for dt in df['datetime']:\n",
    "    wd_list.append(dt.weekday())\n",
    "df['weekday'] = wd_list"
   ],
   "metadata": {
    "collapsed": false,
    "ExecuteTime": {
     "end_time": "2024-02-17T13:59:22.947034800Z",
     "start_time": "2024-02-17T13:59:22.414586100Z"
    }
   },
   "id": "42221b87666350d1"
  },
  {
   "cell_type": "code",
   "execution_count": 69,
   "outputs": [],
   "source": [
    "df['speedGap'] = df['speedUncapped']-df['freeFlow']"
   ],
   "metadata": {
    "collapsed": false,
    "ExecuteTime": {
     "end_time": "2024-02-17T13:59:22.947034800Z",
     "start_time": "2024-02-17T13:59:22.942865800Z"
    }
   },
   "id": "a83c6b86c53cc566"
  },
  {
   "cell_type": "code",
   "execution_count": 70,
   "outputs": [
    {
     "data": {
      "text/plain": "                                         description  length  \\\n0                                        Via Eritrea  1029.0   \n1                                            Lainate  1862.0   \n2                                A4 - Torino Trieste    97.0   \n3                                       SP114-Cusago  3716.0   \n4  Via Luigi Nono incrocio Via Giulio Cesare Proc...   329.0   \n\n           start point            end point       speed  speedUncapped  \\\n0  (45.50902, 9.14808)   (45.51075, 9.1376)   40.000003      40.000003   \n1  (45.57173, 9.01591)  (45.56162, 9.03485)  108.000000     108.000000   \n2  (45.51447, 9.09862)  (45.51419, 9.09977)   64.999998      64.999998   \n3  (45.41276, 9.03626)  (45.44315, 9.02899)   72.000000      72.000000   \n4  (45.48675, 9.17499)  (45.48409, 9.17685)   34.999999      34.999999   \n\n     freeFlow  jamFactor traversability            datetime  ...        O3  \\\n0   34.999999        0.0           open 2024-02-04 01:00:00  ...  2.744279   \n1  105.000005        0.0           open 2024-02-04 01:00:00  ...  2.744279   \n2   40.000003        0.0           open 2024-02-04 01:00:00  ...  2.744279   \n3   50.000000        0.0           open 2024-02-04 01:00:00  ...  3.575294   \n4   30.000002        0.0           open 2024-02-04 01:00:00  ...  2.744279   \n\n        SO2  station id  aqi  aqi_level  pm 2.5  pm 10  \\\n0  0.763359      460336   87   Moderate      87     28   \n1  0.763359      116353   25       Good      25     10   \n2  0.763359      116353   25       Good      25     10   \n3  0.817885      193501   32       Good      32     12   \n4  0.763359       21373   73   Moderate      73     22   \n\n                          station location  weekday   speedGap  \n0  (45.496831549999996, 9.167650701677125)        6   5.000004  \n1                  (45.4679729, 9.1235389)        6   2.999995  \n2                  (45.4679729, 9.1235389)        6  24.999995  \n3                  (45.4452809, 9.0937168)        6  22.000000  \n4                  (45.4762915, 9.1721766)        6   4.999997  \n\n[5 rows x 27 columns]",
      "text/html": "<div>\n<style scoped>\n    .dataframe tbody tr th:only-of-type {\n        vertical-align: middle;\n    }\n\n    .dataframe tbody tr th {\n        vertical-align: top;\n    }\n\n    .dataframe thead th {\n        text-align: right;\n    }\n</style>\n<table border=\"1\" class=\"dataframe\">\n  <thead>\n    <tr style=\"text-align: right;\">\n      <th></th>\n      <th>description</th>\n      <th>length</th>\n      <th>start point</th>\n      <th>end point</th>\n      <th>speed</th>\n      <th>speedUncapped</th>\n      <th>freeFlow</th>\n      <th>jamFactor</th>\n      <th>traversability</th>\n      <th>datetime</th>\n      <th>...</th>\n      <th>O3</th>\n      <th>SO2</th>\n      <th>station id</th>\n      <th>aqi</th>\n      <th>aqi_level</th>\n      <th>pm 2.5</th>\n      <th>pm 10</th>\n      <th>station location</th>\n      <th>weekday</th>\n      <th>speedGap</th>\n    </tr>\n  </thead>\n  <tbody>\n    <tr>\n      <th>0</th>\n      <td>Via Eritrea</td>\n      <td>1029.0</td>\n      <td>(45.50902, 9.14808)</td>\n      <td>(45.51075, 9.1376)</td>\n      <td>40.000003</td>\n      <td>40.000003</td>\n      <td>34.999999</td>\n      <td>0.0</td>\n      <td>open</td>\n      <td>2024-02-04 01:00:00</td>\n      <td>...</td>\n      <td>2.744279</td>\n      <td>0.763359</td>\n      <td>460336</td>\n      <td>87</td>\n      <td>Moderate</td>\n      <td>87</td>\n      <td>28</td>\n      <td>(45.496831549999996, 9.167650701677125)</td>\n      <td>6</td>\n      <td>5.000004</td>\n    </tr>\n    <tr>\n      <th>1</th>\n      <td>Lainate</td>\n      <td>1862.0</td>\n      <td>(45.57173, 9.01591)</td>\n      <td>(45.56162, 9.03485)</td>\n      <td>108.000000</td>\n      <td>108.000000</td>\n      <td>105.000005</td>\n      <td>0.0</td>\n      <td>open</td>\n      <td>2024-02-04 01:00:00</td>\n      <td>...</td>\n      <td>2.744279</td>\n      <td>0.763359</td>\n      <td>116353</td>\n      <td>25</td>\n      <td>Good</td>\n      <td>25</td>\n      <td>10</td>\n      <td>(45.4679729, 9.1235389)</td>\n      <td>6</td>\n      <td>2.999995</td>\n    </tr>\n    <tr>\n      <th>2</th>\n      <td>A4 - Torino Trieste</td>\n      <td>97.0</td>\n      <td>(45.51447, 9.09862)</td>\n      <td>(45.51419, 9.09977)</td>\n      <td>64.999998</td>\n      <td>64.999998</td>\n      <td>40.000003</td>\n      <td>0.0</td>\n      <td>open</td>\n      <td>2024-02-04 01:00:00</td>\n      <td>...</td>\n      <td>2.744279</td>\n      <td>0.763359</td>\n      <td>116353</td>\n      <td>25</td>\n      <td>Good</td>\n      <td>25</td>\n      <td>10</td>\n      <td>(45.4679729, 9.1235389)</td>\n      <td>6</td>\n      <td>24.999995</td>\n    </tr>\n    <tr>\n      <th>3</th>\n      <td>SP114-Cusago</td>\n      <td>3716.0</td>\n      <td>(45.41276, 9.03626)</td>\n      <td>(45.44315, 9.02899)</td>\n      <td>72.000000</td>\n      <td>72.000000</td>\n      <td>50.000000</td>\n      <td>0.0</td>\n      <td>open</td>\n      <td>2024-02-04 01:00:00</td>\n      <td>...</td>\n      <td>3.575294</td>\n      <td>0.817885</td>\n      <td>193501</td>\n      <td>32</td>\n      <td>Good</td>\n      <td>32</td>\n      <td>12</td>\n      <td>(45.4452809, 9.0937168)</td>\n      <td>6</td>\n      <td>22.000000</td>\n    </tr>\n    <tr>\n      <th>4</th>\n      <td>Via Luigi Nono incrocio Via Giulio Cesare Proc...</td>\n      <td>329.0</td>\n      <td>(45.48675, 9.17499)</td>\n      <td>(45.48409, 9.17685)</td>\n      <td>34.999999</td>\n      <td>34.999999</td>\n      <td>30.000002</td>\n      <td>0.0</td>\n      <td>open</td>\n      <td>2024-02-04 01:00:00</td>\n      <td>...</td>\n      <td>2.744279</td>\n      <td>0.763359</td>\n      <td>21373</td>\n      <td>73</td>\n      <td>Moderate</td>\n      <td>73</td>\n      <td>22</td>\n      <td>(45.4762915, 9.1721766)</td>\n      <td>6</td>\n      <td>4.999997</td>\n    </tr>\n  </tbody>\n</table>\n<p>5 rows × 27 columns</p>\n</div>"
     },
     "execution_count": 70,
     "metadata": {},
     "output_type": "execute_result"
    }
   ],
   "source": [
    "df.head()"
   ],
   "metadata": {
    "collapsed": false,
    "ExecuteTime": {
     "end_time": "2024-02-17T13:59:23.008276600Z",
     "start_time": "2024-02-17T13:59:22.947034800Z"
    }
   },
   "id": "8aa2097617f92d11"
  },
  {
   "cell_type": "code",
   "execution_count": 71,
   "outputs": [],
   "source": [
    "count = 0\n",
    "for e in df['description'].isnull():\n",
    "    if e:\n",
    "        print(df.iloc[count])\n",
    "    count+=1"
   ],
   "metadata": {
    "collapsed": false,
    "ExecuteTime": {
     "end_time": "2024-02-17T13:59:23.148888400Z",
     "start_time": "2024-02-17T13:59:22.992629400Z"
    }
   },
   "id": "fd37c4c0ffc2d507"
  },
  {
   "cell_type": "code",
   "execution_count": 72,
   "outputs": [
    {
     "name": "stdout",
     "output_type": "stream",
     "text": [
      "Table completeness:  1.0 \n"
     ]
    },
    {
     "data": {
      "text/plain": "          attributes  attribute completeness\n0        description                     1.0\n1             length                     1.0\n2        start point                     1.0\n3          end point                     1.0\n4              speed                     1.0\n5      speedUncapped                     1.0\n6           freeFlow                     1.0\n7          jamFactor                     1.0\n8     traversability                     1.0\n9           datetime                     1.0\n10              temp                     1.0\n11              rhum                     1.0\n12              prcp                     1.0\n13              wspd                     1.0\n14              pres                     1.0\n15               NO2                     1.0\n16                CO                     1.0\n17                O3                     1.0\n18               SO2                     1.0\n19        station id                     1.0\n20               aqi                     1.0\n21         aqi_level                     1.0\n22            pm 2.5                     1.0\n23             pm 10                     1.0\n24  station location                     1.0\n25           weekday                     1.0\n26          speedGap                     1.0",
      "text/html": "<div>\n<style scoped>\n    .dataframe tbody tr th:only-of-type {\n        vertical-align: middle;\n    }\n\n    .dataframe tbody tr th {\n        vertical-align: top;\n    }\n\n    .dataframe thead th {\n        text-align: right;\n    }\n</style>\n<table border=\"1\" class=\"dataframe\">\n  <thead>\n    <tr style=\"text-align: right;\">\n      <th></th>\n      <th>attributes</th>\n      <th>attribute completeness</th>\n    </tr>\n  </thead>\n  <tbody>\n    <tr>\n      <th>0</th>\n      <td>description</td>\n      <td>1.0</td>\n    </tr>\n    <tr>\n      <th>1</th>\n      <td>length</td>\n      <td>1.0</td>\n    </tr>\n    <tr>\n      <th>2</th>\n      <td>start point</td>\n      <td>1.0</td>\n    </tr>\n    <tr>\n      <th>3</th>\n      <td>end point</td>\n      <td>1.0</td>\n    </tr>\n    <tr>\n      <th>4</th>\n      <td>speed</td>\n      <td>1.0</td>\n    </tr>\n    <tr>\n      <th>5</th>\n      <td>speedUncapped</td>\n      <td>1.0</td>\n    </tr>\n    <tr>\n      <th>6</th>\n      <td>freeFlow</td>\n      <td>1.0</td>\n    </tr>\n    <tr>\n      <th>7</th>\n      <td>jamFactor</td>\n      <td>1.0</td>\n    </tr>\n    <tr>\n      <th>8</th>\n      <td>traversability</td>\n      <td>1.0</td>\n    </tr>\n    <tr>\n      <th>9</th>\n      <td>datetime</td>\n      <td>1.0</td>\n    </tr>\n    <tr>\n      <th>10</th>\n      <td>temp</td>\n      <td>1.0</td>\n    </tr>\n    <tr>\n      <th>11</th>\n      <td>rhum</td>\n      <td>1.0</td>\n    </tr>\n    <tr>\n      <th>12</th>\n      <td>prcp</td>\n      <td>1.0</td>\n    </tr>\n    <tr>\n      <th>13</th>\n      <td>wspd</td>\n      <td>1.0</td>\n    </tr>\n    <tr>\n      <th>14</th>\n      <td>pres</td>\n      <td>1.0</td>\n    </tr>\n    <tr>\n      <th>15</th>\n      <td>NO2</td>\n      <td>1.0</td>\n    </tr>\n    <tr>\n      <th>16</th>\n      <td>CO</td>\n      <td>1.0</td>\n    </tr>\n    <tr>\n      <th>17</th>\n      <td>O3</td>\n      <td>1.0</td>\n    </tr>\n    <tr>\n      <th>18</th>\n      <td>SO2</td>\n      <td>1.0</td>\n    </tr>\n    <tr>\n      <th>19</th>\n      <td>station id</td>\n      <td>1.0</td>\n    </tr>\n    <tr>\n      <th>20</th>\n      <td>aqi</td>\n      <td>1.0</td>\n    </tr>\n    <tr>\n      <th>21</th>\n      <td>aqi_level</td>\n      <td>1.0</td>\n    </tr>\n    <tr>\n      <th>22</th>\n      <td>pm 2.5</td>\n      <td>1.0</td>\n    </tr>\n    <tr>\n      <th>23</th>\n      <td>pm 10</td>\n      <td>1.0</td>\n    </tr>\n    <tr>\n      <th>24</th>\n      <td>station location</td>\n      <td>1.0</td>\n    </tr>\n    <tr>\n      <th>25</th>\n      <td>weekday</td>\n      <td>1.0</td>\n    </tr>\n    <tr>\n      <th>26</th>\n      <td>speedGap</td>\n      <td>1.0</td>\n    </tr>\n  </tbody>\n</table>\n</div>"
     },
     "execution_count": 72,
     "metadata": {},
     "output_type": "execute_result"
    }
   ],
   "source": [
    "\n",
    "m = len(df)\n",
    "n = len(list(df.columns))\n",
    "#table completeness\n",
    "null_table = 0\n",
    "for col in df.columns:\n",
    "    null_table += df[col].isnull().sum()\n",
    "table_completeness = 1-(null_table/(m*n))    \n",
    "print('Table completeness: ', table_completeness, '\\n\\n')\n",
    "\n",
    "#attribute completeness\n",
    "null_attributes_completeness = []\n",
    "for col in df.columns:\n",
    "    attr_compl = 1-(df[col].isnull().sum()/m)\n",
    "    null_attributes_completeness.append(attr_compl)\n",
    "    \n",
    "            \n",
    "\n",
    "column_list = df.columns\n",
    "attribute_completeness = {'attributes':list(column_list), \n",
    "                                  'attribute completeness':null_attributes_completeness}\n",
    "attribute_completeness_df = pd.DataFrame(attribute_completeness)\n",
    "attribute_completeness_df"
   ],
   "metadata": {
    "collapsed": false,
    "ExecuteTime": {
     "end_time": "2024-02-17T13:59:23.309012900Z",
     "start_time": "2024-02-17T13:59:23.070769Z"
    }
   },
   "id": "9d4bc7f0944cd947"
  },
  {
   "cell_type": "code",
   "execution_count": 73,
   "outputs": [
    {
     "name": "stdout",
     "output_type": "stream",
     "text": [
      "consistency for aqi and pollutants:  1.0\n"
     ]
    }
   ],
   "source": [
    "cons_count = 0\n",
    "m = 0\n",
    "\n",
    "for index, row in df.iterrows():\n",
    "    pollutant_list = [int(row['pm 2.5']), int(row['pm 10'])]\n",
    "    m += 1\n",
    "    if int(row['aqi']) == max(pollutant_list):\n",
    "        cons_count += 1\n",
    "\n",
    "consistency = cons_count/m\n",
    "print('consistency for aqi and pollutants: ', consistency)"
   ],
   "metadata": {
    "collapsed": false,
    "ExecuteTime": {
     "end_time": "2024-02-17T13:59:31.367723700Z",
     "start_time": "2024-02-17T13:59:23.324591600Z"
    }
   },
   "id": "a4f7d6db553f2c8b"
  },
  {
   "cell_type": "code",
   "execution_count": 74,
   "outputs": [
    {
     "name": "stdout",
     "output_type": "stream",
     "text": [
      "consistency for speed and jamFactor:  1.0\n"
     ]
    }
   ],
   "source": [
    "cons_count = 0\n",
    "m = 0\n",
    "for index, row in df.iterrows():\n",
    "   if row['jamFactor'] > 0:\n",
    "        m += 1\n",
    "        if not(row['speed'] > row['freeFlow']):\n",
    "            cons_count += 1\n",
    "                \n",
    "\n",
    "consistency = cons_count/m\n",
    "print('consistency for speed and jamFactor: ', consistency)"
   ],
   "metadata": {
    "collapsed": false,
    "ExecuteTime": {
     "end_time": "2024-02-17T13:59:37.582546400Z",
     "start_time": "2024-02-17T13:59:31.398977500Z"
    }
   },
   "id": "b189c277629f7092"
  },
  {
   "cell_type": "markdown",
   "source": [
    "##UPLOAD CLEANED AND AGGREGATED DATA ON DB"
   ],
   "metadata": {
    "collapsed": false
   },
   "id": "2db8c39bed16a946"
  },
  {
   "cell_type": "code",
   "execution_count": 75,
   "outputs": [],
   "source": [
    "\n",
    "result_document_list = []\n",
    "for index, row in df.iterrows():\n",
    "    station = {'id':row['station id'], 'station location': row['station location']}\n",
    "    location = {'description': row['description'], 'length':row['length'], \n",
    "                'start point':row['start point'], 'end point': row['end point'], 'station':station}\n",
    "    traffic = {'speed':row['speed'],'speedUncapped':row['speedUncapped'],\n",
    "           'freeFlow':row['freeFlow'], 'jamFactor':row['jamFactor'], 'traversability':row['traversability'], 'speedGap':row['speedGap']}\n",
    "    environment = {'temperature': row['temp'], 'relative humidity': row['rhum'], 'rainfall': row['prcp'],\n",
    "                   'wind': row['wspd'],'pressure': row['pres'], 'NO2': row['NO2'], 'CO': row['CO'], \n",
    "                   'O3': row['O3'],'SO2': row['SO2'],'Aqi': row['aqi'],'aqi level': row['aqi_level'],\n",
    "                   'pm 2.5': row['pm 2.5'],'pm 10': row['pm 10'],}\n",
    "    doc = {'datetime':row['datetime'], 'weekday': row['weekday'],'environment': environment, 'traffic':traffic, 'location': location}\n",
    "    result_document_list.append(doc)\n",
    "    "
   ],
   "metadata": {
    "collapsed": false,
    "ExecuteTime": {
     "end_time": "2024-02-17T13:59:56.386384700Z",
     "start_time": "2024-02-17T13:59:37.598172200Z"
    }
   },
   "id": "a39d5038c39acbf6"
  },
  {
   "cell_type": "code",
   "execution_count": 76,
   "outputs": [
    {
     "name": "stdout",
     "output_type": "stream",
     "text": [
      "{'datetime': Timestamp('2024-02-04 01:00:00'), 'weekday': 6, 'environment': {'temperature': 8.5, 'relative humidity': 84.0, 'rainfall': 0.0, 'wind': 8.0, 'pressure': 1023.7, 'NO2': 10.983057022094727, 'CO': 1.1521738767623901, 'O3': 2.744279384613037, 'SO2': 0.7633588314056396, 'Aqi': 87, 'aqi level': 'Moderate', 'pm 2.5': 87, 'pm 10': 28}, 'traffic': {'speed': 40.0000032, 'speedUncapped': 40.0000032, 'freeFlow': 34.999999200000005, 'jamFactor': 0.0, 'traversability': 'open', 'speedGap': 5.000003999999997}, 'location': {'description': 'Via Eritrea', 'length': 1029.0, 'start point': (45.50902, 9.14808), 'end point': (45.51075, 9.1376), 'station': {'id': 460336, 'station location': (45.496831549999996, 9.167650701677125)}}}\n"
     ]
    }
   ],
   "source": [
    "clean_db = client.DataDb\n",
    "collection = clean_db.MilanTrafficAndPollution\n",
    "print(result_document_list[0])\n",
    "for doc in result_document_list:\n",
    "    collection.insert_one(doc)\n"
   ],
   "metadata": {
    "collapsed": false,
    "ExecuteTime": {
     "end_time": "2024-02-17T14:02:28.216237500Z",
     "start_time": "2024-02-17T13:59:56.440483300Z"
    }
   },
   "id": "4791e6eaf6d326d6"
  },
  {
   "cell_type": "code",
   "execution_count": 77,
   "outputs": [],
   "source": [
    "\n",
    "environment_doc_list = []\n",
    "traffic_doc_list = []\n",
    "for index, row in df.iterrows():\n",
    "    station = {'id':row['station id'], 'station location': row['station location']}\n",
    "    location = {'description': row['description'], 'length':row['length'], \n",
    "                'start point':row['start point'], 'end point': row['end point'], 'station':station}\n",
    "    traffic = {'speed':row['speed'],'speedUncapped':row['speedUncapped'],\n",
    "           'freeFlow':row['freeFlow'], 'jamFactor':row['jamFactor'], 'traversability':row['traversability'], 'speedGap':row['speedGap']}\n",
    "    environment = {'temperature': row['temp'], 'relative humidity': row['rhum'], 'rainfall': row['prcp'],\n",
    "                   'wind': row['wspd'],'pressure': row['pres'], 'NO2': row['NO2'], 'CO': row['CO'], \n",
    "                   'O3': row['O3'],'SO2': row['SO2'],'Aqi': row['aqi'],'aqi level': row['aqi_level'],\n",
    "                   'pm 2.5': row['pm 2.5'],'pm 10': row['pm 10'],}\n",
    "    environment_tmp = environment\n",
    "    environment_tmp['location'] = location\n",
    "    environment_tmp['datetime'] = row['datetime']\n",
    "    environment_tmp['station'] = row['station id']\n",
    "    environment_doc_list.append(environment_tmp)\n",
    "    traffic_tmp = traffic\n",
    "    traffic_tmp['location'] = location\n",
    "    traffic_tmp['datetime'] = row['datetime']\n",
    "    traffic_doc_list.append(traffic_tmp)"
   ],
   "metadata": {
    "collapsed": false,
    "ExecuteTime": {
     "end_time": "2024-02-17T14:05:23.213968100Z",
     "start_time": "2024-02-17T14:02:28.263124400Z"
    }
   },
   "id": "732cc69354f8195e"
  },
  {
   "cell_type": "code",
   "execution_count": 78,
   "outputs": [],
   "source": [
    "clean_db = client.DataDb\n",
    "collection = clean_db.EnvironmentData\n",
    "\n",
    "df_tmp = pd.DataFrame.from_records(environment_doc_list)\n",
    "df_tmp = df_tmp.drop_duplicates(subset=['datetime', 'station'])\n",
    "environment_doc_list = []\n",
    "for index, row in df_tmp.iterrows():\n",
    "    environment = {'temperature': row['temperature'], 'relative humidity': row['temperature'], 'rainfall': row['rainfall'],\n",
    "                'wind': row['wind'],'pressure': row['pressure'], 'NO2': row['NO2'], 'CO': row['CO'], 'O3': row['O3'],\n",
    "                'SO2': row['SO2'],'Aqi': row['Aqi'],'aqi level': row['aqi level'],'pm 2.5': row['pm 2.5'],\n",
    "                'pm 10': row['pm 10'],}\n",
    "    environment_tmp = environment\n",
    "    environment_tmp['location'] = row['location']\n",
    "    environment_tmp['datetime'] = row['datetime']\n",
    "    environment_doc_list.append(environment_tmp)\n",
    "\n",
    "\n",
    "for doc in environment_doc_list:\n",
    "    collection.insert_one(doc)"
   ],
   "metadata": {
    "collapsed": false,
    "ExecuteTime": {
     "end_time": "2024-02-17T14:05:26.239425700Z",
     "start_time": "2024-02-17T14:05:23.194415Z"
    }
   },
   "id": "9503197139d5e319"
  },
  {
   "cell_type": "code",
   "execution_count": 79,
   "outputs": [],
   "source": [
    "clean_db = client.DataDb\n",
    "collection = clean_db.TrafficData\n",
    "\n",
    "for doc in traffic_doc_list:\n",
    "    collection.insert_one(doc)"
   ],
   "metadata": {
    "collapsed": false,
    "ExecuteTime": {
     "end_time": "2024-02-17T14:08:01.588662100Z",
     "start_time": "2024-02-17T14:05:26.239425700Z"
    }
   },
   "id": "9340a5d936144901"
  },
  {
   "cell_type": "code",
   "execution_count": 79,
   "outputs": [],
   "source": [],
   "metadata": {
    "collapsed": false,
    "ExecuteTime": {
     "end_time": "2024-02-17T14:08:01.604359500Z",
     "start_time": "2024-02-17T14:08:01.588662100Z"
    }
   },
   "id": "94e6398972b0ef44"
  }
 ],
 "metadata": {
  "kernelspec": {
   "display_name": "Python 3",
   "language": "python",
   "name": "python3"
  },
  "language_info": {
   "codemirror_mode": {
    "name": "ipython",
    "version": 2
   },
   "file_extension": ".py",
   "mimetype": "text/x-python",
   "name": "python",
   "nbconvert_exporter": "python",
   "pygments_lexer": "ipython2",
   "version": "2.7.6"
  }
 },
 "nbformat": 4,
 "nbformat_minor": 5
}
